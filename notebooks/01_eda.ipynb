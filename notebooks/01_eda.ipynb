{
 "cells": [
  {
   "cell_type": "markdown",
   "id": "3073671a",
   "metadata": {},
   "source": [
    "# Exploratory Data Analysis (EDA)\n",
    "\n",
    "Since the dataset has already been split, this notebook focuses only on `train.csv`.  \n",
    "Restricting EDA to the training set helps prevent data leakage and ensures that any decisions about feature engineering, modeling, or threshold selection remain unbiased.\n",
    "\n",
    "During EDA, the goal is to build a general intuition about the data — its structure, content, and potential issues. This includes understanding variable types, common value ranges, missing data, and potential early signals of anomalies or bot activity.\n"
   ]
  },
  {
   "cell_type": "code",
   "execution_count": 1,
   "id": "0e122ebb",
   "metadata": {},
   "outputs": [
    {
     "data": {
      "text/html": [
       "\n",
       "            <div>\n",
       "                <ins><a href=\"https://ydata.ai/register\">Upgrade to ydata-sdk</a></ins>\n",
       "                <p>\n",
       "                    Improve your data and profiling with ydata-sdk, featuring data quality scoring, redundancy detection, outlier identification, text validation, and synthetic data generation.\n",
       "                </p>\n",
       "            </div>\n",
       "            "
      ],
      "text/plain": [
       "<IPython.core.display.HTML object>"
      ]
     },
     "metadata": {},
     "output_type": "display_data"
    }
   ],
   "source": [
    "# dependencies\n",
    "import pandas as pd\n",
    "import numpy as np\n",
    "import pickle\n",
    "\n",
    "# data profiling\n",
    "from ydata_profiling import ProfileReport\n",
    "\n",
    "# visualizations\n",
    "import seaborn as sns\n",
    "import matplotlib.pyplot as plt"
   ]
  },
  {
   "cell_type": "code",
   "execution_count": 2,
   "id": "eba9665a",
   "metadata": {},
   "outputs": [],
   "source": [
    "# use inline backend for matplotlib\n",
    "%matplotlib inline\n",
    "\n",
    "# set display options for full output\n",
    "pd.set_option('display.max_rows', None)  # Show all rows\n",
    "pd.set_option('display.max_columns', None)  # Show all columns\n",
    "pd.set_option('display.width', None)  # Don't wrap wide tables\n",
    "pd.set_option('display.max_colwidth', None)  # Show full content in cells"
   ]
  },
  {
   "cell_type": "code",
   "execution_count": 3,
   "id": "47c5dd98",
   "metadata": {},
   "outputs": [
    {
     "data": {
      "text/html": [
       "<div>\n",
       "<style scoped>\n",
       "    .dataframe tbody tr th:only-of-type {\n",
       "        vertical-align: middle;\n",
       "    }\n",
       "\n",
       "    .dataframe tbody tr th {\n",
       "        vertical-align: top;\n",
       "    }\n",
       "\n",
       "    .dataframe thead th {\n",
       "        text-align: right;\n",
       "    }\n",
       "</style>\n",
       "<table border=\"1\" class=\"dataframe\">\n",
       "  <thead>\n",
       "    <tr style=\"text-align: right;\">\n",
       "      <th></th>\n",
       "      <th>datetime</th>\n",
       "      <th>region</th>\n",
       "      <th>browser</th>\n",
       "      <th>device</th>\n",
       "      <th>url_params</th>\n",
       "    </tr>\n",
       "  </thead>\n",
       "  <tbody>\n",
       "    <tr>\n",
       "      <th>0</th>\n",
       "      <td>2019-12-02 00:00:01</td>\n",
       "      <td>Mercury</td>\n",
       "      <td>Safari</td>\n",
       "      <td>Android</td>\n",
       "      <td>/ad_click?n=1&amp;f=1&amp;d=www.ashtondrake.com&amp;sld=1&amp;st=mobile_search_intl&amp;nt=0&amp;r=0&amp;adx=none&amp;adx_name=none&amp;ttc=2297&amp;q=frit%20sewn%20quipu&amp;ct=JP&amp;kl=wt-wt&amp;kp=-1</td>\n",
       "    </tr>\n",
       "    <tr>\n",
       "      <th>1</th>\n",
       "      <td>2019-12-02 00:00:02</td>\n",
       "      <td>Venus</td>\n",
       "      <td>Chrome</td>\n",
       "      <td>Android</td>\n",
       "      <td>/ad_click?n=1&amp;f=1&amp;d=www.viagogo.com.mx&amp;sld=1&amp;st=mobile_search_intl&amp;nt=0&amp;r=0&amp;adx=none&amp;adx_name=none&amp;ttc=1799&amp;q=nold%20fn%20eques%20campoo%20mortality%20tawgi&amp;ct=MX&amp;kl=wt-wt&amp;kp=-1&amp;bkl=r1-2</td>\n",
       "    </tr>\n",
       "    <tr>\n",
       "      <th>2</th>\n",
       "      <td>2019-12-02 00:00:17</td>\n",
       "      <td>Mars</td>\n",
       "      <td>Edge</td>\n",
       "      <td>Android</td>\n",
       "      <td>/ad_click?n=1&amp;f=1&amp;d=www.AliExpress.com&amp;sld=1&amp;st=mobile_search_intl&amp;nt=0&amp;r=0&amp;adx=none&amp;adx_name=none&amp;ttc=27721&amp;q=splenocyte&amp;ct=FR&amp;kl=wt-wt&amp;kp=-1</td>\n",
       "    </tr>\n",
       "    <tr>\n",
       "      <th>3</th>\n",
       "      <td>2019-12-02 00:00:44</td>\n",
       "      <td>Venus</td>\n",
       "      <td>Edge</td>\n",
       "      <td>Android</td>\n",
       "      <td>/ad_click?n=1&amp;f=1&amp;d=www.amazon.ca&amp;sld=0&amp;st=mobile_search_intl&amp;nt=0&amp;r=0&amp;adx=none&amp;adx_name=none&amp;ttc=2534&amp;q=diau%20haeing%20sah&amp;ct=CA&amp;kl=wt-wt&amp;kp=-1</td>\n",
       "    </tr>\n",
       "    <tr>\n",
       "      <th>4</th>\n",
       "      <td>2019-12-02 00:00:49</td>\n",
       "      <td>Mars</td>\n",
       "      <td>Safari</td>\n",
       "      <td>Android</td>\n",
       "      <td>/ad_click?n=1&amp;f=1&amp;d=www.uswitch.com&amp;sld=0&amp;st=mobile_search_intl&amp;nt=0&amp;r=0&amp;adx=oag&amp;adx_name=none&amp;ttc=7144&amp;q=stirrable%20ocher&amp;ct=GB&amp;kl=uk-en&amp;kp=-1</td>\n",
       "    </tr>\n",
       "  </tbody>\n",
       "</table>\n",
       "</div>"
      ],
      "text/plain": [
       "              datetime   region browser   device  \\\n",
       "0  2019-12-02 00:00:01  Mercury  Safari  Android   \n",
       "1  2019-12-02 00:00:02    Venus  Chrome  Android   \n",
       "2  2019-12-02 00:00:17     Mars    Edge  Android   \n",
       "3  2019-12-02 00:00:44    Venus    Edge  Android   \n",
       "4  2019-12-02 00:00:49     Mars  Safari  Android   \n",
       "\n",
       "                                                                                                                                                                                   url_params  \n",
       "0                                     /ad_click?n=1&f=1&d=www.ashtondrake.com&sld=1&st=mobile_search_intl&nt=0&r=0&adx=none&adx_name=none&ttc=2297&q=frit%20sewn%20quipu&ct=JP&kl=wt-wt&kp=-1  \n",
       "1  /ad_click?n=1&f=1&d=www.viagogo.com.mx&sld=1&st=mobile_search_intl&nt=0&r=0&adx=none&adx_name=none&ttc=1799&q=nold%20fn%20eques%20campoo%20mortality%20tawgi&ct=MX&kl=wt-wt&kp=-1&bkl=r1-2  \n",
       "2                                              /ad_click?n=1&f=1&d=www.AliExpress.com&sld=1&st=mobile_search_intl&nt=0&r=0&adx=none&adx_name=none&ttc=27721&q=splenocyte&ct=FR&kl=wt-wt&kp=-1  \n",
       "3                                           /ad_click?n=1&f=1&d=www.amazon.ca&sld=0&st=mobile_search_intl&nt=0&r=0&adx=none&adx_name=none&ttc=2534&q=diau%20haeing%20sah&ct=CA&kl=wt-wt&kp=-1  \n",
       "4                                            /ad_click?n=1&f=1&d=www.uswitch.com&sld=0&st=mobile_search_intl&nt=0&r=0&adx=oag&adx_name=none&ttc=7144&q=stirrable%20ocher&ct=GB&kl=uk-en&kp=-1  "
      ]
     },
     "execution_count": 3,
     "metadata": {},
     "output_type": "execute_result"
    }
   ],
   "source": [
    "df = pd.read_csv(\n",
    "    '../data/train.csv',\n",
    "    sep='\\t',\n",
    "    index_col=False,\n",
    ")\n",
    "df.head()"
   ]
  },
  {
   "cell_type": "markdown",
   "id": "f2a64beb",
   "metadata": {},
   "source": [
    "### Automated EDA\n",
    "\n",
    "For the initial step, the `ydata-profiling` library is used to generate an automated exploratory report that provides a quick overview of dataset structure, variable types, distributions, missing values, and potential outliers.\n",
    "\n",
    "For the initial report, the search parameter column is excluded as it is too complex for the library to summarize meaningfully."
   ]
  },
  {
   "cell_type": "code",
   "execution_count": 4,
   "id": "39d957e9",
   "metadata": {},
   "outputs": [
    {
     "data": {
      "application/vnd.jupyter.widget-view+json": {
       "model_id": "a188a0268bde40aa9624a5c0d44d9011",
       "version_major": 2,
       "version_minor": 0
      },
      "text/plain": [
       "Summarize dataset:   0%|          | 0/5 [00:00<?, ?it/s]"
      ]
     },
     "metadata": {},
     "output_type": "display_data"
    },
    {
     "name": "stderr",
     "output_type": "stream",
     "text": [
      "100%|██████████| 4/4 [00:00<00:00, 25.38it/s]\n"
     ]
    },
    {
     "data": {
      "application/vnd.jupyter.widget-view+json": {
       "model_id": "7971c347317d4e7d8c9cf6823d35fc69",
       "version_major": 2,
       "version_minor": 0
      },
      "text/plain": [
       "Generate report structure:   0%|          | 0/1 [00:00<?, ?it/s]"
      ]
     },
     "metadata": {},
     "output_type": "display_data"
    },
    {
     "data": {
      "application/vnd.jupyter.widget-view+json": {
       "model_id": "90782ffb148b4ec2a8513ed684d93f98",
       "version_major": 2,
       "version_minor": 0
      },
      "text/plain": [
       "Render HTML:   0%|          | 0/1 [00:00<?, ?it/s]"
      ]
     },
     "metadata": {},
     "output_type": "display_data"
    },
    {
     "data": {
      "application/vnd.jupyter.widget-view+json": {
       "model_id": "1d6db6090fd94b1690f198f34728ba32",
       "version_major": 2,
       "version_minor": 0
      },
      "text/plain": [
       "Export report to file:   0%|          | 0/1 [00:00<?, ?it/s]"
      ]
     },
     "metadata": {},
     "output_type": "display_data"
    }
   ],
   "source": [
    "profile = ProfileReport(df.drop(columns=['url_params']))\n",
    "profile.to_file('01-1-initial_automated_eda.html')"
   ]
  },
  {
   "cell_type": "markdown",
   "id": "aa1a62a9",
   "metadata": {},
   "source": [
    "Initial Findings:\n",
    "- No missing data  \n",
    "- Some duplicated rows _(to be verified against the full dataset)_  \n",
    "- Browser and device features show strong categorical association (**Cramér’s V = 0.782**)  \n",
    "- `region`: 6 distinct values, mostly either **Mars** or **Earth**  \n",
    "- `device`: values are either **Android** or **iOS**, mostly **Android**  \n",
    "- `browser`: 5 distinct values, with **Chrome** being the most common\n",
    "- For all three categorical features, values are standardized (i.e., no mixed casing, extra whitespace, etc.)"
   ]
  },
  {
   "cell_type": "markdown",
   "id": "fa4c3cde",
   "metadata": {},
   "source": [
    "#### Duplicated data"
   ]
  },
  {
   "cell_type": "code",
   "execution_count": 5,
   "id": "f781d195",
   "metadata": {},
   "outputs": [
    {
     "name": "stdout",
     "output_type": "stream",
     "text": [
      "There are 9 duplicated rows.\n"
     ]
    }
   ],
   "source": [
    "print(f\"There are {df.duplicated().sum()} duplicated rows.\")"
   ]
  },
  {
   "cell_type": "markdown",
   "id": "b4f39e62",
   "metadata": {},
   "source": [
    "If these reflect true user or bot behavior (e.g., repeated identical clicks), they may be relevant for model fitting or frequency-based features.  \n",
    "Otherwise, they could indicate logging artifacts or a system error."
   ]
  },
  {
   "cell_type": "code",
   "execution_count": 6,
   "id": "83697922",
   "metadata": {},
   "outputs": [
    {
     "data": {
      "text/html": [
       "<div>\n",
       "<style scoped>\n",
       "    .dataframe tbody tr th:only-of-type {\n",
       "        vertical-align: middle;\n",
       "    }\n",
       "\n",
       "    .dataframe tbody tr th {\n",
       "        vertical-align: top;\n",
       "    }\n",
       "\n",
       "    .dataframe thead th {\n",
       "        text-align: right;\n",
       "    }\n",
       "</style>\n",
       "<table border=\"1\" class=\"dataframe\">\n",
       "  <thead>\n",
       "    <tr style=\"text-align: right;\">\n",
       "      <th></th>\n",
       "      <th>datetime</th>\n",
       "      <th>region</th>\n",
       "      <th>browser</th>\n",
       "      <th>device</th>\n",
       "      <th>url_params</th>\n",
       "    </tr>\n",
       "  </thead>\n",
       "  <tbody>\n",
       "    <tr>\n",
       "      <th>6269</th>\n",
       "      <td>2019-12-02 09:55:53</td>\n",
       "      <td>Mars</td>\n",
       "      <td>Chrome</td>\n",
       "      <td>Android</td>\n",
       "      <td>/ad_click?n=1&amp;f=1&amp;d=www.amazon.es&amp;sld=0&amp;st=mobile_search_intl&amp;nt=0&amp;r=0&amp;adx=none&amp;adx_name=none&amp;ttc=969&amp;q=brisker%20napa&amp;ct=ES&amp;kl=wt-wt&amp;kp=-1</td>\n",
       "    </tr>\n",
       "    <tr>\n",
       "      <th>6272</th>\n",
       "      <td>2019-12-02 09:56:00</td>\n",
       "      <td>Mars</td>\n",
       "      <td>Safari</td>\n",
       "      <td>Android</td>\n",
       "      <td>/ad_click?n=1&amp;f=1&amp;d=www.northwickassociates.co.uk&amp;sld=1&amp;st=mobile_search_intl&amp;nt=0&amp;r=0&amp;adx=def&amp;adx_name=none&amp;ttc=14816&amp;q=otopiesis%20probit&amp;ct=GB&amp;kl=wt-wt&amp;kp=-1</td>\n",
       "    </tr>\n",
       "    <tr>\n",
       "      <th>6281</th>\n",
       "      <td>2019-12-02 09:56:46</td>\n",
       "      <td>Mars</td>\n",
       "      <td>Chrome</td>\n",
       "      <td>Android</td>\n",
       "      <td>/ad_click?n=1&amp;f=1&amp;d=www.berghof.at&amp;sld=0&amp;st=mobile_search_intl&amp;nt=0&amp;r=0&amp;adx=none&amp;adx_name=none&amp;ttc=15281&amp;q=cudgels%20kras&amp;ct=NL&amp;kl=wt-wt&amp;kp=-2</td>\n",
       "    </tr>\n",
       "    <tr>\n",
       "      <th>9171</th>\n",
       "      <td>2019-12-02 13:20:23</td>\n",
       "      <td>Earth</td>\n",
       "      <td>Chrome</td>\n",
       "      <td>Android</td>\n",
       "      <td>/ad_click?n=1&amp;f=1&amp;d=hausbau.musterhaus.net&amp;sld=0&amp;st=mobile_search_intl&amp;nt=0&amp;r=0&amp;adx=none&amp;adx_name=none&amp;ttc=9795&amp;q=nonretentive%20doited&amp;ct=DE&amp;kl=wt-wt&amp;kp=-1</td>\n",
       "    </tr>\n",
       "    <tr>\n",
       "      <th>9176</th>\n",
       "      <td>2019-12-02 13:20:41</td>\n",
       "      <td>Earth</td>\n",
       "      <td>Chrome</td>\n",
       "      <td>Android</td>\n",
       "      <td>/ad_click?n=1&amp;f=1&amp;d=hausbau.musterhaus.net&amp;sld=0&amp;st=mobile_search_intl&amp;nt=0&amp;r=0&amp;adx=none&amp;adx_name=none&amp;ttc=5131&amp;q=nonretentive%20doited&amp;ct=DE&amp;kl=wt-wt&amp;kp=-1&amp;bkl=ra-0</td>\n",
       "    </tr>\n",
       "    <tr>\n",
       "      <th>9189</th>\n",
       "      <td>2019-12-02 13:21:04</td>\n",
       "      <td>Earth</td>\n",
       "      <td>Chrome</td>\n",
       "      <td>Android</td>\n",
       "      <td>/ad_click?n=1&amp;f=1&amp;d=samsclub.com&amp;sld=1&amp;st=mobile_search_intl&amp;nt=0&amp;r=0&amp;adx=none&amp;adx_name=none&amp;ttc=15313&amp;q=invade%20houri%20tanan&amp;ct=DE&amp;kl=wt-wt&amp;kp=-1</td>\n",
       "    </tr>\n",
       "    <tr>\n",
       "      <th>9904</th>\n",
       "      <td>2019-12-02 14:08:34</td>\n",
       "      <td>Mars</td>\n",
       "      <td>Chrome</td>\n",
       "      <td>Android</td>\n",
       "      <td>/ad_click?n=1&amp;f=1&amp;d=www.yidio.com&amp;sld=1&amp;st=mobile_search_intl&amp;nt=0&amp;r=0&amp;adx=none&amp;adx_name=none&amp;ttc=7756&amp;q=loco%20rander%20onflow%20f%20myoneme%20iq&amp;ct=GB&amp;kl=wt-wt&amp;kp=-1&amp;lsexp1=b</td>\n",
       "    </tr>\n",
       "    <tr>\n",
       "      <th>11665</th>\n",
       "      <td>2019-12-02 15:50:50</td>\n",
       "      <td>Mars</td>\n",
       "      <td>Edge</td>\n",
       "      <td>Android</td>\n",
       "      <td>/ad_click?n=1&amp;f=1&amp;d=www.amazon.de&amp;sld=0&amp;st=mobile_search_intl&amp;nt=0&amp;r=null&amp;adx=def&amp;adx_name=none&amp;ttc=521&amp;q=ipr%20alemannian%20nubbled&amp;ct=DE&amp;kl=wt-wt&amp;kp=-1&amp;bkl=r1-1</td>\n",
       "    </tr>\n",
       "    <tr>\n",
       "      <th>11669</th>\n",
       "      <td>2019-12-02 15:50:59</td>\n",
       "      <td>Mars</td>\n",
       "      <td>Chrome</td>\n",
       "      <td>Android</td>\n",
       "      <td>/ad_click?n=1&amp;f=1&amp;d=www.cargurus.co.uk&amp;sld=1&amp;st=mobile_search_intl&amp;nt=0&amp;r=0&amp;adx=none&amp;adx_name=none&amp;ttc=3667&amp;q=attendance%20kae&amp;ct=GB&amp;kl=wt-wt&amp;kp=-1</td>\n",
       "    </tr>\n",
       "  </tbody>\n",
       "</table>\n",
       "</div>"
      ],
      "text/plain": [
       "                  datetime region browser   device  \\\n",
       "6269   2019-12-02 09:55:53   Mars  Chrome  Android   \n",
       "6272   2019-12-02 09:56:00   Mars  Safari  Android   \n",
       "6281   2019-12-02 09:56:46   Mars  Chrome  Android   \n",
       "9171   2019-12-02 13:20:23  Earth  Chrome  Android   \n",
       "9176   2019-12-02 13:20:41  Earth  Chrome  Android   \n",
       "9189   2019-12-02 13:21:04  Earth  Chrome  Android   \n",
       "9904   2019-12-02 14:08:34   Mars  Chrome  Android   \n",
       "11665  2019-12-02 15:50:50   Mars    Edge  Android   \n",
       "11669  2019-12-02 15:50:59   Mars  Chrome  Android   \n",
       "\n",
       "                                                                                                                                                                             url_params  \n",
       "6269                                        /ad_click?n=1&f=1&d=www.amazon.es&sld=0&st=mobile_search_intl&nt=0&r=0&adx=none&adx_name=none&ttc=969&q=brisker%20napa&ct=ES&kl=wt-wt&kp=-1  \n",
       "6272                   /ad_click?n=1&f=1&d=www.northwickassociates.co.uk&sld=1&st=mobile_search_intl&nt=0&r=0&adx=def&adx_name=none&ttc=14816&q=otopiesis%20probit&ct=GB&kl=wt-wt&kp=-1  \n",
       "6281                                     /ad_click?n=1&f=1&d=www.berghof.at&sld=0&st=mobile_search_intl&nt=0&r=0&adx=none&adx_name=none&ttc=15281&q=cudgels%20kras&ct=NL&kl=wt-wt&kp=-2  \n",
       "9171                       /ad_click?n=1&f=1&d=hausbau.musterhaus.net&sld=0&st=mobile_search_intl&nt=0&r=0&adx=none&adx_name=none&ttc=9795&q=nonretentive%20doited&ct=DE&kl=wt-wt&kp=-1  \n",
       "9176              /ad_click?n=1&f=1&d=hausbau.musterhaus.net&sld=0&st=mobile_search_intl&nt=0&r=0&adx=none&adx_name=none&ttc=5131&q=nonretentive%20doited&ct=DE&kl=wt-wt&kp=-1&bkl=ra-0  \n",
       "9189                               /ad_click?n=1&f=1&d=samsclub.com&sld=1&st=mobile_search_intl&nt=0&r=0&adx=none&adx_name=none&ttc=15313&q=invade%20houri%20tanan&ct=DE&kl=wt-wt&kp=-1  \n",
       "9904   /ad_click?n=1&f=1&d=www.yidio.com&sld=1&st=mobile_search_intl&nt=0&r=0&adx=none&adx_name=none&ttc=7756&q=loco%20rander%20onflow%20f%20myoneme%20iq&ct=GB&kl=wt-wt&kp=-1&lsexp1=b  \n",
       "11665                /ad_click?n=1&f=1&d=www.amazon.de&sld=0&st=mobile_search_intl&nt=0&r=null&adx=def&adx_name=none&ttc=521&q=ipr%20alemannian%20nubbled&ct=DE&kl=wt-wt&kp=-1&bkl=r1-1  \n",
       "11669                               /ad_click?n=1&f=1&d=www.cargurus.co.uk&sld=1&st=mobile_search_intl&nt=0&r=0&adx=none&adx_name=none&ttc=3667&q=attendance%20kae&ct=GB&kl=wt-wt&kp=-1  "
      ]
     },
     "execution_count": 6,
     "metadata": {},
     "output_type": "execute_result"
    }
   ],
   "source": [
    "# look into duplicated rows\n",
    "df_duplicated = df[df.duplicated()]\n",
    "df_duplicated"
   ]
  },
  {
   "cell_type": "markdown",
   "id": "986c282a",
   "metadata": {},
   "source": [
    "For further EDA, duplicated rows will be removed. This may be revisited later for behavioral analysis or clustering."
   ]
  },
  {
   "cell_type": "code",
   "execution_count": 7,
   "id": "f5de80a9",
   "metadata": {},
   "outputs": [
    {
     "data": {
      "text/plain": [
       "(11711, 5)"
      ]
     },
     "execution_count": 7,
     "metadata": {},
     "output_type": "execute_result"
    }
   ],
   "source": [
    "df = df.drop_duplicates()\n",
    "df.shape"
   ]
  },
  {
   "cell_type": "markdown",
   "id": "db3ef656",
   "metadata": {},
   "source": [
    "### `datetime`\n",
    "While automated report gave already good insight into time period we have in the training set, I want to see ution by hour.  "
   ]
  },
  {
   "cell_type": "code",
   "execution_count": 8,
   "id": "0c7fe90f",
   "metadata": {},
   "outputs": [],
   "source": [
    "df['datetime'] = pd.to_datetime(df['datetime'])\n",
    "df.loc[:, 'date'] = df['datetime'].dt.date\n",
    "df.loc[:, 'time'] = df['datetime'].dt.time\n",
    "df.loc[:, 'hour'] = df['datetime'].dt.hour"
   ]
  },
  {
   "cell_type": "code",
   "execution_count": 9,
   "id": "fb8d4c22",
   "metadata": {},
   "outputs": [
    {
     "data": {
      "image/png": "[encoded data removed]",
      "text/plain": [
       "<Figure size 1200x600 with 1 Axes>"
      ]
     },
     "metadata": {},
     "output_type": "display_data"
    },
    {
     "name": "stdout",
     "output_type": "stream",
     "text": [
      "Data spans from hour 0 to hour 15\n",
      "Total hours with data: 16\n",
      "Timestamp of the first observation: 2019-12-02 00:00:01\n",
      "Timestamp of the last observation: 2019-12-02 15:53:39\n"
     ]
    }
   ],
   "source": [
    "plt.figure(figsize=(12, 6))\n",
    "\n",
    "# Get the actual range of hours in your data\n",
    "min_hour = df['hour'].min()\n",
    "max_hour = df['hour'].max()\n",
    "hour_range = max_hour - min_hour + 1\n",
    "\n",
    "# Create explicit bin edges to ensure proper alignment\n",
    "bin_edges = np.arange(min_hour, max_hour + 2, 1)  # +2 to include the last hour\n",
    "\n",
    "# Create histogram with seaborn - use actual number of hours\n",
    "sns.histplot(data=df, x='hour', bins=bin_edges, kde=True, color='steelblue', alpha=0.7)\n",
    "\n",
    "# Customize\n",
    "plt.title('Event Distribution by Hour of Day', fontsize=14, fontweight='bold')\n",
    "plt.figtext(\n",
    "    0.5,\n",
    "    0.001,\n",
    "    'Note: [0,1) means events from 00:00:00 (inclusive) to 01:00:00 (exclusive)', \n",
    "    ha='center',\n",
    "    fontsize=10,\n",
    "    style='italic',\n",
    "    color='gray',\n",
    ")\n",
    "plt.xlabel('Hour of Day', fontsize=11)\n",
    "plt.ylabel('Count', fontsize=11)\n",
    "\n",
    "# Create proper x-tick labels with intervals for actual hours\n",
    "tick_labels = [f'[{int(bin_edges[i])},{int(bin_edges[i+1])})' for i in range(len(bin_edges)-1)]\n",
    "tick_positions = bin_edges[:-1] + 0.5\n",
    "plt.xticks(tick_positions, tick_labels)\n",
    "\n",
    "# Set x-axis limits to match your data range\n",
    "plt.xlim(min_hour, max_hour + 1)\n",
    "\n",
    "# Add grid\n",
    "plt.grid(True, alpha=0.3)\n",
    "plt.tight_layout()\n",
    "plt.show()\n",
    "\n",
    "print(f\"Data spans from hour {min_hour} to hour {max_hour}\")\n",
    "print(f\"Total hours with data: {hour_range}\")\n",
    "print(f\"Timestamp of the first observation: {df['datetime'].min()}\")\n",
    "print(f\"Timestamp of the last observation: {df['datetime'].max()}\")"
   ]
  },
  {
   "cell_type": "markdown",
   "id": "b345f0cc",
   "metadata": {},
   "source": [
    "While the histogram shows a clear increase in event volume during certain hours (with a spike around the last full hour: 14:00–15:00), it's important to acknowledge that we do not have information about the original timezones of the users or events.\n",
    "\n",
    "The timestamps may reflect server time or a standardized time (e.g., UTC), not the actual local time of users. As such, any behavioral interpretation (e.g., \"morning usage\", \"lunch spike\") is speculative.\n",
    "\n",
    "That said, relative anomalies — such as sharp bursts or sudden drops — can still be useful indicators of unusual activity, even without timezone alignment.\n"
   ]
  },
  {
   "cell_type": "markdown",
   "id": "fcb14189",
   "metadata": {},
   "source": [
    "### Search parameters\n",
    "\n",
    "To properly analyze the search parameters, each parameter and its corresponding value needs to be extracted."
   ]
  },
  {
   "cell_type": "code",
   "execution_count": null,
   "id": "c3ea4922",
   "metadata": {},
   "outputs": [],
   "source": [
    "def parse_url_params_simple(url_string: str) -> dict:\n",
    "    \"\"\"\n",
    "    Simple param parsing.\n",
    "    Save all params by their title and their value, and the first part of the url as prefix.\n",
    "\n",
    "    Assumption: input string follows pattern similar to:\n",
    "    /[a-zA-Z0-9_]+[?]([a-zA-Z0-9_]+=[^&]+&?)*\n",
    "\n",
    "    Examples:\n",
    "    /search?q=test&f=1\n",
    "    /ad_click?n=1&f=1&d=www.amazon.com\n",
    "\n",
    "    Expected output:\n",
    "    {\n",
    "        \"__prefix__\": \"search\",\n",
    "        \"q\": \"test\",\n",
    "        \"f\": \"1\",\n",
    "    }\n",
    "    \"\"\"\n",
    "    result = {}\n",
    "\n",
    "    if '?' not in url_string:\n",
    "        return result\n",
    "    \n",
    "    # get everything after ?\n",
    "    query_parts = url_string.split('?')\n",
    "    result[\"__prefix__\"] = query_parts[0]\n",
    "    query_part = query_parts[1]\n",
    "    \n",
    "    # split by &\n",
    "    param_pairs = query_part.split('&')\n",
    "    \n",
    "    for pair in param_pairs:\n",
    "        if '=' in pair:\n",
    "            key, value = pair.split('=', 1)\n",
    "            result[key] = value\n",
    "    \n",
    "    return result\n"
   ]
  },
  {
   "cell_type": "code",
   "execution_count": 11,
   "id": "48b95a72",
   "metadata": {},
   "outputs": [
    {
     "data": {
      "text/plain": [
       "{'__prefix__': '/ad_click',\n",
       " 'n': '1',\n",
       " 'f': '1',\n",
       " 'd': 'www.ashtondrake.com',\n",
       " 'sld': '1',\n",
       " 'st': 'mobile_search_intl',\n",
       " 'nt': '0',\n",
       " 'r': '0',\n",
       " 'adx': 'none',\n",
       " 'adx_name': 'none',\n",
       " 'ttc': '2297',\n",
       " 'q': 'frit%20sewn%20quipu',\n",
       " 'ct': 'JP',\n",
       " 'kl': 'wt-wt',\n",
       " 'kp': '-1'}"
      ]
     },
     "execution_count": 11,
     "metadata": {},
     "output_type": "execute_result"
    }
   ],
   "source": [
    "df.loc[:, 'params_dict'] = df['url_params'].apply(parse_url_params_simple)\n",
    "\n",
    "# print one set of parameters\n",
    "df['params_dict'].values[0]"
   ]
  },
  {
   "cell_type": "code",
   "execution_count": 12,
   "id": "f4ba471f",
   "metadata": {},
   "outputs": [
    {
     "data": {
      "text/html": [
       "<div>\n",
       "<style scoped>\n",
       "    .dataframe tbody tr th:only-of-type {\n",
       "        vertical-align: middle;\n",
       "    }\n",
       "\n",
       "    .dataframe tbody tr th {\n",
       "        vertical-align: top;\n",
       "    }\n",
       "\n",
       "    .dataframe thead th {\n",
       "        text-align: right;\n",
       "    }\n",
       "</style>\n",
       "<table border=\"1\" class=\"dataframe\">\n",
       "  <thead>\n",
       "    <tr style=\"text-align: right;\">\n",
       "      <th></th>\n",
       "      <th>count</th>\n",
       "      <th>missing_values_percentage</th>\n",
       "    </tr>\n",
       "  </thead>\n",
       "  <tbody>\n",
       "    <tr>\n",
       "      <th>__prefix__</th>\n",
       "      <td>11711</td>\n",
       "      <td>0.00</td>\n",
       "    </tr>\n",
       "    <tr>\n",
       "      <th>n</th>\n",
       "      <td>11711</td>\n",
       "      <td>0.00</td>\n",
       "    </tr>\n",
       "    <tr>\n",
       "      <th>d</th>\n",
       "      <td>11711</td>\n",
       "      <td>0.00</td>\n",
       "    </tr>\n",
       "    <tr>\n",
       "      <th>sld</th>\n",
       "      <td>11711</td>\n",
       "      <td>0.00</td>\n",
       "    </tr>\n",
       "    <tr>\n",
       "      <th>st</th>\n",
       "      <td>11711</td>\n",
       "      <td>0.00</td>\n",
       "    </tr>\n",
       "    <tr>\n",
       "      <th>nt</th>\n",
       "      <td>11711</td>\n",
       "      <td>0.00</td>\n",
       "    </tr>\n",
       "    <tr>\n",
       "      <th>kp</th>\n",
       "      <td>11711</td>\n",
       "      <td>0.00</td>\n",
       "    </tr>\n",
       "    <tr>\n",
       "      <th>r</th>\n",
       "      <td>11711</td>\n",
       "      <td>0.00</td>\n",
       "    </tr>\n",
       "    <tr>\n",
       "      <th>adx</th>\n",
       "      <td>11711</td>\n",
       "      <td>0.00</td>\n",
       "    </tr>\n",
       "    <tr>\n",
       "      <th>adx_name</th>\n",
       "      <td>11711</td>\n",
       "      <td>0.00</td>\n",
       "    </tr>\n",
       "    <tr>\n",
       "      <th>ttc</th>\n",
       "      <td>11711</td>\n",
       "      <td>0.00</td>\n",
       "    </tr>\n",
       "    <tr>\n",
       "      <th>q</th>\n",
       "      <td>11711</td>\n",
       "      <td>0.00</td>\n",
       "    </tr>\n",
       "    <tr>\n",
       "      <th>ct</th>\n",
       "      <td>11711</td>\n",
       "      <td>0.00</td>\n",
       "    </tr>\n",
       "    <tr>\n",
       "      <th>kl</th>\n",
       "      <td>11711</td>\n",
       "      <td>0.00</td>\n",
       "    </tr>\n",
       "    <tr>\n",
       "      <th>f</th>\n",
       "      <td>11682</td>\n",
       "      <td>0.25</td>\n",
       "    </tr>\n",
       "    <tr>\n",
       "      <th>bkl</th>\n",
       "      <td>1521</td>\n",
       "      <td>87.01</td>\n",
       "    </tr>\n",
       "    <tr>\n",
       "      <th>lsexp1</th>\n",
       "      <td>1118</td>\n",
       "      <td>90.45</td>\n",
       "    </tr>\n",
       "    <tr>\n",
       "      <th>om</th>\n",
       "      <td>372</td>\n",
       "      <td>96.82</td>\n",
       "    </tr>\n",
       "    <tr>\n",
       "      <th>atb</th>\n",
       "      <td>196</td>\n",
       "      <td>98.33</td>\n",
       "    </tr>\n",
       "    <tr>\n",
       "      <th>atbva</th>\n",
       "      <td>26</td>\n",
       "      <td>99.78</td>\n",
       "    </tr>\n",
       "    <tr>\n",
       "      <th>va</th>\n",
       "      <td>6</td>\n",
       "      <td>99.95</td>\n",
       "    </tr>\n",
       "    <tr>\n",
       "      <th>atbexp</th>\n",
       "      <td>1</td>\n",
       "      <td>99.99</td>\n",
       "    </tr>\n",
       "  </tbody>\n",
       "</table>\n",
       "</div>"
      ],
      "text/plain": [
       "            count  missing_values_percentage\n",
       "__prefix__  11711                       0.00\n",
       "n           11711                       0.00\n",
       "d           11711                       0.00\n",
       "sld         11711                       0.00\n",
       "st          11711                       0.00\n",
       "nt          11711                       0.00\n",
       "kp          11711                       0.00\n",
       "r           11711                       0.00\n",
       "adx         11711                       0.00\n",
       "adx_name    11711                       0.00\n",
       "ttc         11711                       0.00\n",
       "q           11711                       0.00\n",
       "ct          11711                       0.00\n",
       "kl          11711                       0.00\n",
       "f           11682                       0.25\n",
       "bkl          1521                      87.01\n",
       "lsexp1       1118                      90.45\n",
       "om            372                      96.82\n",
       "atb           196                      98.33\n",
       "atbva          26                      99.78\n",
       "va              6                      99.95\n",
       "atbexp          1                      99.99"
      ]
     },
     "execution_count": 12,
     "metadata": {},
     "output_type": "execute_result"
    }
   ],
   "source": [
    "# check frequency each parameter\n",
    "# flatten all dictionaries and count keys\n",
    "all_keys_series = df['params_dict'].apply(lambda x: list(x.keys()) if isinstance(x, dict) else [])\n",
    "all_keys_flat = [key for keys_list in all_keys_series for key in keys_list]\n",
    "\n",
    "# get frequency of each parameter and percentage of missing values \n",
    "# in correspondence with the total number of rows in dataset\n",
    "pd.Series(all_keys_flat)\\\n",
    "    .value_counts()\\\n",
    "    .to_frame(\"count\")\\\n",
    "    .assign(missing_values_percentage=lambda x: round((1 - x[\"count\"] / df.shape[0]) * 100, 2))"
   ]
  },
  {
   "cell_type": "markdown",
   "id": "22519bb1",
   "metadata": {},
   "source": [
    "The dataset includes a set of query parameters extracted from ad click URLs. Most fields are abbreviated, and their actual meanings are not provided in the assignment's instructions. In this context, their interpretation is based on:\n",
    "- Inferred patterns from their values and distributions\n",
    "- Naming conventions commonly used in search and ad tech\n",
    "- Supportive interpretation via tools like ChatGPT\n",
    "\n",
    "In a real-world scenario, the exact purpose and encoding of these parameters would be validated through engineering documentation or by consulting the logging/tracking system owners.\n",
    "\n",
    "From an exploratory perspective:\n",
    "- Core fields such as `q` (search query), `ttc` (time to click), and `d` (destination domain) appear on all records and can be confidently treated as primary behavioral features.\n",
    "- Other parameters (e.g., `bkl`, `atbva`, `va`, etc.) have very sparse coverage and may correspond to experimental flags, attribution tags, or internal metadata. These may still provide useful signals if their presence aligns with anomalous patterns, but caution is required due to their high missingness and uncertain semantics."
   ]
  },
  {
   "cell_type": "code",
   "execution_count": 13,
   "id": "0b975f72",
   "metadata": {},
   "outputs": [
    {
     "data": {
      "text/plain": [
       "Index(['datetime', 'region', 'browser', 'device', 'date', 'time', 'hour',\n",
       "       '__prefix__', 'n', 'f', 'd', 'sld', 'st', 'nt', 'r', 'adx', 'adx_name',\n",
       "       'ttc', 'q', 'ct', 'kl', 'kp', 'bkl', 'lsexp1', 'om', 'atb', 'atbva',\n",
       "       'va', 'atbexp'],\n",
       "      dtype='object')"
      ]
     },
     "execution_count": 13,
     "metadata": {},
     "output_type": "execute_result"
    }
   ],
   "source": [
    "# transform from dictionary into dataframe\n",
    "df_full = df.join(df['params_dict'].apply(pd.Series))\n",
    "df_full.drop(columns=['url_params', 'params_dict'], inplace=True)\n",
    "df_full.columns"
   ]
  },
  {
   "cell_type": "code",
   "execution_count": 14,
   "id": "e4c55be9",
   "metadata": {},
   "outputs": [
    {
     "data": {
      "text/html": [
       "<div>\n",
       "<style scoped>\n",
       "    .dataframe tbody tr th:only-of-type {\n",
       "        vertical-align: middle;\n",
       "    }\n",
       "\n",
       "    .dataframe tbody tr th {\n",
       "        vertical-align: top;\n",
       "    }\n",
       "\n",
       "    .dataframe thead th {\n",
       "        text-align: right;\n",
       "    }\n",
       "</style>\n",
       "<table border=\"1\" class=\"dataframe\">\n",
       "  <thead>\n",
       "    <tr style=\"text-align: right;\">\n",
       "      <th></th>\n",
       "      <th>datetime</th>\n",
       "      <th>region</th>\n",
       "      <th>browser</th>\n",
       "      <th>device</th>\n",
       "      <th>date</th>\n",
       "      <th>time</th>\n",
       "      <th>hour</th>\n",
       "      <th>__prefix__</th>\n",
       "      <th>n</th>\n",
       "      <th>f</th>\n",
       "      <th>d</th>\n",
       "      <th>sld</th>\n",
       "      <th>st</th>\n",
       "      <th>nt</th>\n",
       "      <th>r</th>\n",
       "      <th>adx</th>\n",
       "      <th>adx_name</th>\n",
       "      <th>ttc</th>\n",
       "      <th>q</th>\n",
       "      <th>ct</th>\n",
       "      <th>kl</th>\n",
       "      <th>kp</th>\n",
       "      <th>bkl</th>\n",
       "      <th>lsexp1</th>\n",
       "      <th>om</th>\n",
       "      <th>atb</th>\n",
       "      <th>atbva</th>\n",
       "      <th>va</th>\n",
       "      <th>atbexp</th>\n",
       "    </tr>\n",
       "  </thead>\n",
       "  <tbody>\n",
       "    <tr>\n",
       "      <th>0</th>\n",
       "      <td>2019-12-02 00:00:01</td>\n",
       "      <td>Mercury</td>\n",
       "      <td>Safari</td>\n",
       "      <td>Android</td>\n",
       "      <td>2019-12-02</td>\n",
       "      <td>00:00:01</td>\n",
       "      <td>0</td>\n",
       "      <td>/ad_click</td>\n",
       "      <td>1</td>\n",
       "      <td>1</td>\n",
       "      <td>www.ashtondrake.com</td>\n",
       "      <td>1</td>\n",
       "      <td>mobile_search_intl</td>\n",
       "      <td>0</td>\n",
       "      <td>0</td>\n",
       "      <td>none</td>\n",
       "      <td>none</td>\n",
       "      <td>2297</td>\n",
       "      <td>frit%20sewn%20quipu</td>\n",
       "      <td>JP</td>\n",
       "      <td>wt-wt</td>\n",
       "      <td>-1</td>\n",
       "      <td>NaN</td>\n",
       "      <td>NaN</td>\n",
       "      <td>NaN</td>\n",
       "      <td>NaN</td>\n",
       "      <td>NaN</td>\n",
       "      <td>NaN</td>\n",
       "      <td>NaN</td>\n",
       "    </tr>\n",
       "    <tr>\n",
       "      <th>1</th>\n",
       "      <td>2019-12-02 00:00:02</td>\n",
       "      <td>Venus</td>\n",
       "      <td>Chrome</td>\n",
       "      <td>Android</td>\n",
       "      <td>2019-12-02</td>\n",
       "      <td>00:00:02</td>\n",
       "      <td>0</td>\n",
       "      <td>/ad_click</td>\n",
       "      <td>1</td>\n",
       "      <td>1</td>\n",
       "      <td>www.viagogo.com.mx</td>\n",
       "      <td>1</td>\n",
       "      <td>mobile_search_intl</td>\n",
       "      <td>0</td>\n",
       "      <td>0</td>\n",
       "      <td>none</td>\n",
       "      <td>none</td>\n",
       "      <td>1799</td>\n",
       "      <td>nold%20fn%20eques%20campoo%20mortality%20tawgi</td>\n",
       "      <td>MX</td>\n",
       "      <td>wt-wt</td>\n",
       "      <td>-1</td>\n",
       "      <td>r1-2</td>\n",
       "      <td>NaN</td>\n",
       "      <td>NaN</td>\n",
       "      <td>NaN</td>\n",
       "      <td>NaN</td>\n",
       "      <td>NaN</td>\n",
       "      <td>NaN</td>\n",
       "    </tr>\n",
       "    <tr>\n",
       "      <th>2</th>\n",
       "      <td>2019-12-02 00:00:17</td>\n",
       "      <td>Mars</td>\n",
       "      <td>Edge</td>\n",
       "      <td>Android</td>\n",
       "      <td>2019-12-02</td>\n",
       "      <td>00:00:17</td>\n",
       "      <td>0</td>\n",
       "      <td>/ad_click</td>\n",
       "      <td>1</td>\n",
       "      <td>1</td>\n",
       "      <td>www.AliExpress.com</td>\n",
       "      <td>1</td>\n",
       "      <td>mobile_search_intl</td>\n",
       "      <td>0</td>\n",
       "      <td>0</td>\n",
       "      <td>none</td>\n",
       "      <td>none</td>\n",
       "      <td>27721</td>\n",
       "      <td>splenocyte</td>\n",
       "      <td>FR</td>\n",
       "      <td>wt-wt</td>\n",
       "      <td>-1</td>\n",
       "      <td>NaN</td>\n",
       "      <td>NaN</td>\n",
       "      <td>NaN</td>\n",
       "      <td>NaN</td>\n",
       "      <td>NaN</td>\n",
       "      <td>NaN</td>\n",
       "      <td>NaN</td>\n",
       "    </tr>\n",
       "    <tr>\n",
       "      <th>3</th>\n",
       "      <td>2019-12-02 00:00:44</td>\n",
       "      <td>Venus</td>\n",
       "      <td>Edge</td>\n",
       "      <td>Android</td>\n",
       "      <td>2019-12-02</td>\n",
       "      <td>00:00:44</td>\n",
       "      <td>0</td>\n",
       "      <td>/ad_click</td>\n",
       "      <td>1</td>\n",
       "      <td>1</td>\n",
       "      <td>www.amazon.ca</td>\n",
       "      <td>0</td>\n",
       "      <td>mobile_search_intl</td>\n",
       "      <td>0</td>\n",
       "      <td>0</td>\n",
       "      <td>none</td>\n",
       "      <td>none</td>\n",
       "      <td>2534</td>\n",
       "      <td>diau%20haeing%20sah</td>\n",
       "      <td>CA</td>\n",
       "      <td>wt-wt</td>\n",
       "      <td>-1</td>\n",
       "      <td>NaN</td>\n",
       "      <td>NaN</td>\n",
       "      <td>NaN</td>\n",
       "      <td>NaN</td>\n",
       "      <td>NaN</td>\n",
       "      <td>NaN</td>\n",
       "      <td>NaN</td>\n",
       "    </tr>\n",
       "    <tr>\n",
       "      <th>4</th>\n",
       "      <td>2019-12-02 00:00:49</td>\n",
       "      <td>Mars</td>\n",
       "      <td>Safari</td>\n",
       "      <td>Android</td>\n",
       "      <td>2019-12-02</td>\n",
       "      <td>00:00:49</td>\n",
       "      <td>0</td>\n",
       "      <td>/ad_click</td>\n",
       "      <td>1</td>\n",
       "      <td>1</td>\n",
       "      <td>www.uswitch.com</td>\n",
       "      <td>0</td>\n",
       "      <td>mobile_search_intl</td>\n",
       "      <td>0</td>\n",
       "      <td>0</td>\n",
       "      <td>oag</td>\n",
       "      <td>none</td>\n",
       "      <td>7144</td>\n",
       "      <td>stirrable%20ocher</td>\n",
       "      <td>GB</td>\n",
       "      <td>uk-en</td>\n",
       "      <td>-1</td>\n",
       "      <td>NaN</td>\n",
       "      <td>NaN</td>\n",
       "      <td>NaN</td>\n",
       "      <td>NaN</td>\n",
       "      <td>NaN</td>\n",
       "      <td>NaN</td>\n",
       "      <td>NaN</td>\n",
       "    </tr>\n",
       "  </tbody>\n",
       "</table>\n",
       "</div>"
      ],
      "text/plain": [
       "             datetime   region browser   device        date      time  hour  \\\n",
       "0 2019-12-02 00:00:01  Mercury  Safari  Android  2019-12-02  00:00:01     0   \n",
       "1 2019-12-02 00:00:02    Venus  Chrome  Android  2019-12-02  00:00:02     0   \n",
       "2 2019-12-02 00:00:17     Mars    Edge  Android  2019-12-02  00:00:17     0   \n",
       "3 2019-12-02 00:00:44    Venus    Edge  Android  2019-12-02  00:00:44     0   \n",
       "4 2019-12-02 00:00:49     Mars  Safari  Android  2019-12-02  00:00:49     0   \n",
       "\n",
       "  __prefix__  n  f                    d sld                  st nt  r   adx  \\\n",
       "0  /ad_click  1  1  www.ashtondrake.com   1  mobile_search_intl  0  0  none   \n",
       "1  /ad_click  1  1   www.viagogo.com.mx   1  mobile_search_intl  0  0  none   \n",
       "2  /ad_click  1  1   www.AliExpress.com   1  mobile_search_intl  0  0  none   \n",
       "3  /ad_click  1  1        www.amazon.ca   0  mobile_search_intl  0  0  none   \n",
       "4  /ad_click  1  1      www.uswitch.com   0  mobile_search_intl  0  0   oag   \n",
       "\n",
       "  adx_name    ttc                                               q  ct     kl  \\\n",
       "0     none   2297                             frit%20sewn%20quipu  JP  wt-wt   \n",
       "1     none   1799  nold%20fn%20eques%20campoo%20mortality%20tawgi  MX  wt-wt   \n",
       "2     none  27721                                      splenocyte  FR  wt-wt   \n",
       "3     none   2534                             diau%20haeing%20sah  CA  wt-wt   \n",
       "4     none   7144                               stirrable%20ocher  GB  uk-en   \n",
       "\n",
       "   kp   bkl lsexp1   om  atb atbva   va atbexp  \n",
       "0  -1   NaN    NaN  NaN  NaN   NaN  NaN    NaN  \n",
       "1  -1  r1-2    NaN  NaN  NaN   NaN  NaN    NaN  \n",
       "2  -1   NaN    NaN  NaN  NaN   NaN  NaN    NaN  \n",
       "3  -1   NaN    NaN  NaN  NaN   NaN  NaN    NaN  \n",
       "4  -1   NaN    NaN  NaN  NaN   NaN  NaN    NaN  "
      ]
     },
     "execution_count": 14,
     "metadata": {},
     "output_type": "execute_result"
    }
   ],
   "source": [
    "df_full.head()"
   ]
  },
  {
   "cell_type": "markdown",
   "id": "099b9981",
   "metadata": {},
   "source": [
    "Now that all parameters are split into separate columns, automated EDA can be re-run.\n",
    "\n",
    "Two columns — `d` (destination domain) and `q` (query) — are excluded from the report,\n",
    "as they contain a high number of unique values. The profiling library attempts to\n",
    "compute word frequencies for such fields, which will actually throw an error and generally\n",
    "wouldn't be that useful at this stage."
   ]
  },
  {
   "cell_type": "code",
   "execution_count": 15,
   "id": "a2b1b7dc",
   "metadata": {},
   "outputs": [],
   "source": [
    "# quick fix for time column, otherwise library throws an error that\n",
    "# time is not supported format.\n",
    "df_full[\"time\"] = df_full[\"time\"].astype(str)"
   ]
  },
  {
   "cell_type": "code",
   "execution_count": 16,
   "id": "aa6f95b4",
   "metadata": {},
   "outputs": [
    {
     "data": {
      "application/vnd.jupyter.widget-view+json": {
       "model_id": "d8ece3d65e194d6b94316bef61f95c32",
       "version_major": 2,
       "version_minor": 0
      },
      "text/plain": [
       "Summarize dataset:   0%|          | 0/5 [00:00<?, ?it/s]"
      ]
     },
     "metadata": {},
     "output_type": "display_data"
    },
    {
     "name": "stderr",
     "output_type": "stream",
     "text": [
      "100%|██████████| 27/27 [00:04<00:00,  6.33it/s]\n",
      "/home/home/Documents/_git/ddg-home-assignment/.venv/lib/python3.12/site-packages/ydata_profiling/model/pandas/discretize_pandas.py:52: FutureWarning: Setting an item of incompatible dtype is deprecated and will raise in a future error of pandas. Value '[0 0 0 ... 9 9 9]' has dtype incompatible with int32, please explicitly cast to a compatible dtype first.\n",
      "  discretized_df.loc[:, column] = self._discretize_column(\n"
     ]
    },
    {
     "data": {
      "application/vnd.jupyter.widget-view+json": {
       "model_id": "729988d7320f4615bf5a45c3c8ad191c",
       "version_major": 2,
       "version_minor": 0
      },
      "text/plain": [
       "Generate report structure:   0%|          | 0/1 [00:00<?, ?it/s]"
      ]
     },
     "metadata": {},
     "output_type": "display_data"
    },
    {
     "data": {
      "application/vnd.jupyter.widget-view+json": {
       "model_id": "e94445865f5a4f6e9648e3e2c37014f0",
       "version_major": 2,
       "version_minor": 0
      },
      "text/plain": [
       "Render HTML:   0%|          | 0/1 [00:00<?, ?it/s]"
      ]
     },
     "metadata": {},
     "output_type": "display_data"
    },
    {
     "data": {
      "application/vnd.jupyter.widget-view+json": {
       "model_id": "38c276349b2142949073be63b576e5b8",
       "version_major": 2,
       "version_minor": 0
      },
      "text/plain": [
       "Export report to file:   0%|          | 0/1 [00:00<?, ?it/s]"
      ]
     },
     "metadata": {},
     "output_type": "display_data"
    }
   ],
   "source": [
    "profile = ProfileReport(df_full.drop(columns=['d', 'q']))\n",
    "profile.to_file('01-2-automated_eda_on_full_dataframe.html')"
   ]
  },
  {
   "cell_type": "markdown",
   "id": "4c1de867",
   "metadata": {},
   "source": [
    "### Summary of Automated EDA\n",
    "\n",
    "\n",
    "- No missing values* in most core fields. All required columns are populated and valid.\n",
    "- Several fields are constants, e.g., `date`, `__prefix__`, `st`, `f`, `atb`, `atbexp`, which may offer little value for modeling and can likely be excluded from feature engineering.\n",
    "- Some fields are highly sparse and correlated, especially `atbva`, `bkl`, `lsexp1`, `om`, `va`, etc. Many of these are >90% missing and strongly correlated with each other. These likely represent flags or experimental conditions and will be assessed for binary encoding or exclusion.\n",
    "- Many fields are highly imbalanced, such as `n`, `nt`, `r`, `adx_name`, `adx`, etc. While potentially useful for detecting anomalous traffic patterns, care will be taken to avoid overfitting on rare categories.\n",
    "- `ttc` (assuming: time to click) is extremely skewed (γ₁ = 66+), suggesting it could benefit from log transformation or outlier clipping. Despite skew, it likely carries strong behavioral signal.\n",
    "- Region, device, and browser fields are clean and low in cardinality. Device and browser are somewhat imbalanced but still useful. Correlation between browser/device suggests possible device fingerprinting patterns.\n",
    "- Temporal feature (`datetime`) is valid, with no missing or invalid timestamps. However, `date` is constant, which limits time-series modeling.\n",
    "- High multicollinearity is observed among many fields. Correlation structures will be monitored closely during feature selection to avoid redundancy or model instability.\n",
    "- Text fields (`q`, `d`) were excluded from automated profiling due to high cardinality, but will be explored during feature engineering.\n",
    "\n",
    "---\n",
    "\n",
    "Additional Observations\n",
    "\n",
    "- The entire dataset occurs on a single day (2019-12-02). Therefore, no time-series modeling will be done. However, temporal order still matters for anomaly detection and will be preserved (as already noted during the data split phase in the previous notebook).\n",
    "\n",
    "- Some categorical fields like adx_name, va, atbva appear system-generated or anonymized — this introduces noise but could still hold indirect signals.\n"
   ]
  },
  {
   "cell_type": "code",
   "execution_count": 17,
   "id": "a59007fb",
   "metadata": {},
   "outputs": [],
   "source": [
    "# pass final state of dataframe to the next notebook\n",
    "with open('../data/tmp_eda_full_df.pkl', 'wb') as f:\n",
    "    pickle.dump(df, f)"
   ]
  }
 ],
 "metadata": {
  "language_info": {
   "name": "python"
  }
 },
 "nbformat": 4,
 "nbformat_minor": 5
}
