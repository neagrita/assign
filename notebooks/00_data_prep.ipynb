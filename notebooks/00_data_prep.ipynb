{
 "cells": [
  {
   "cell_type": "markdown",
   "id": "e65d7bf7",
   "metadata": {},
   "source": [
    "# Data Split Plan\n",
    "\n",
    "This notebook splits the dataset into three parts before performing any detailed exploratory data analysis (EDA). The goal is to set up a clear and reliable starting point for building and testing the model.\n",
    "\n",
    "---\n",
    "\n",
    "## Initial Check\n",
    "\n",
    "Before splitting, a quick check of the dataset was done:\n",
    "\n",
    "* The dataset contains around 15,000 rows, which is small enough to work with directly.\n",
    "* A light inspection of the date and time column showed that timestamps are available and appear to be sequential.\n",
    "\n",
    "This justifies a time-aware split and helps avoid bias or data leakage before deeper analysis.\n",
    "\n",
    "---\n",
    "\n",
    "## Split Overview\n",
    "\n",
    "The data is divided as follows:\n",
    "\n",
    "* **Train (75%)**\n",
    "  Used for model training and feature building. This set reflects typical user behavior.\n",
    "\n",
    "* **Validation (15%)**\n",
    "  Used to tune model settings (like contamination rate or dimensionality reduction) and check model stability.\n",
    "\n",
    "* **Holdout Test (10%)**\n",
    "  Used for final evaluation. This data is kept separate to assess model performance on truly unseen data.\n",
    "\n",
    "---\n",
    "\n",
    "## Time-Aware Consideration\n",
    "\n",
    "Since the dataset includes a timestamp (_event date and time_) and the entries appear sequential, a time-based split will be used to preserve the natural order of events:\n",
    "\n",
    "* Train on the earliest 75%\n",
    "* Validate on the next 15%\n",
    "* Test on the most recent 10%\n",
    "\n",
    "---\n",
    "\n",
    "## Why Time-Aware Splitting Matters\n",
    "\n",
    "Bot behavior can change over time, so using a random split might mix old and new patterns. That could make the model appear more accurate than it truly is.\n",
    "\n",
    "A time-based split simulates how the model would perform in a real-world scenario:\n",
    "\n",
    "* It learns from past behavior\n",
    "* Then it is tested on future, unseen data\n",
    "\n",
    "This helps evaluate how well the model adapts to new patterns or changes in traffic.\n",
    "\n",
    "---\n",
    "\n",
    "## Summary\n",
    "\n",
    "A chronological 75-15-10 split is used to:\n",
    "\n",
    "* Avoid mixing past and future data\n",
    "* Maintain time order\n",
    "* Prepare the model for real-world use cases\n"
   ]
  },
  {
   "cell_type": "code",
   "execution_count": 3,
   "id": "b2cbb6c3",
   "metadata": {},
   "outputs": [
    {
     "name": "stdout",
     "output_type": "stream",
     "text": [
      "Dataset size: 15,627 records\n",
      "Train size: 11,720 records (75.0%)\n",
      "Test size: 2,344 records (15.0%)\n",
      "Holdout size: 1,563 records (10.0%)\n"
     ]
    }
   ],
   "source": [
    "import pandas as pd\n",
    "\n",
    "df = pd.read_csv(\n",
    "    '../data/bot-hunter-dataset.tsv',\n",
    "    sep='\\t',\n",
    "    header=None,\n",
    "    names=['datetime', 'region', 'browser', 'device', 'url_params'],\n",
    "    index_col=False,\n",
    ")\n",
    "\n",
    "# convert datetime column to proper datetime format\n",
    "df['datetime'] = pd.to_datetime(df['datetime'])\n",
    "df = df.sort_values('datetime').reset_index(drop=True)\n",
    "\n",
    "n_total = len(df)\n",
    "n_train = int(0.75 * n_total)    # 75% for training\n",
    "n_test = int(0.15 * n_total)     # 15% for testing\n",
    "n_holdout = n_total - n_train - n_test  # remaining 10% for holdout\n",
    "\n",
    "print(f\"Dataset size: {n_total:,} records\")\n",
    "print(f\"Train size: {n_train:,} records ({n_train/n_total:.1%})\")\n",
    "print(f\"Test size: {n_test:,} records ({n_test/n_total:.1%})\")\n",
    "print(f\"Holdout size: {n_holdout:,} records ({n_holdout/n_total:.1%})\")\n",
    "\n",
    "# split data\n",
    "train_df = df.iloc[:n_train].copy()\n",
    "test_df = df.iloc[n_train:n_train + n_test].copy()\n",
    "holdout_df = df.iloc[n_train + n_test:].copy()\n",
    "\n",
    "assert len(train_df) + len(test_df) + len(holdout_df) == len(df), \"Split sizes don't match original dataset\""
   ]
  },
  {
   "cell_type": "code",
   "execution_count": 5,
   "id": "8f09608f",
   "metadata": {},
   "outputs": [],
   "source": [
    "train_df.to_csv('../data/train.csv', sep='\\t', index=False)\n",
    "test_df.to_csv('../data/test.csv', sep='\\t', index=False)\n",
    "holdout_df.to_csv('../data/holdout.csv', sep='\\t', index=False)"
   ]
  }
 ],
 "metadata": {
  "kernelspec": {
   "display_name": ".venv",
   "language": "python",
   "name": "python3"
  },
  "language_info": {
   "codemirror_mode": {
    "name": "ipython",
    "version": 3
   },
   "file_extension": ".py",
   "mimetype": "text/x-python",
   "name": "python",
   "nbconvert_exporter": "python",
   "pygments_lexer": "ipython3",
   "version": "3.12.11"
  }
 },
 "nbformat": 4,
 "nbformat_minor": 5
}
