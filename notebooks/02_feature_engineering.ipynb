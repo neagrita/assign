{
 "cells": [
  {
   "cell_type": "markdown",
   "id": "2a3ec23a",
   "metadata": {},
   "source": [
    "# Feature Engineering"
   ]
  },
  {
   "cell_type": "code",
   "execution_count": 1,
   "id": "4bb2bbf7",
   "metadata": {},
   "outputs": [],
   "source": [
    "# dependencies - data manipulation\n",
    "import pandas as pd\n",
    "import numpy as np\n",
    "import pickle\n",
    "from itertools import combinations\n",
    "from collections import Counter\n",
    "from urllib.parse import unquote\n",
    "\n",
    "# feature engineering\n",
    "import re   # regular expressions\n",
    "from tld import get_tld  # top level domain extraction\n",
    "from sklearn.feature_extraction.text import TfidfVectorizer\n",
    "from scipy.stats import entropy\n",
    "import fasttext  # embeddings\n",
    "\n",
    "# visualization\n",
    "import matplotlib.pyplot as plt\n",
    "import seaborn as sns\n",
    "\n",
    "# dimensionality reduction\n",
    "from sklearn.decomposition import TruncatedSVD\n",
    "\n",
    "# for association between two nominal variables\n",
    "from scipy.stats.contingency import association"
   ]
  },
  {
   "cell_type": "code",
   "execution_count": 2,
   "id": "3da9fbf6",
   "metadata": {},
   "outputs": [
    {
     "data": {
      "text/plain": [
       "(11711, 29)"
      ]
     },
     "execution_count": 2,
     "metadata": {},
     "output_type": "execute_result"
    }
   ],
   "source": [
    "# load data from previous notebook\n",
    "with open('../data/tmp_eda_full_df.pkl', 'rb') as f:\n",
    "    df = pickle.load(f)\n",
    "\n",
    "df.shape"
   ]
  },
  {
   "cell_type": "code",
   "execution_count": 3,
   "id": "644a5d6c",
   "metadata": {},
   "outputs": [
    {
     "data": {
      "text/html": [
       "<div>\n",
       "<style scoped>\n",
       "    .dataframe tbody tr th:only-of-type {\n",
       "        vertical-align: middle;\n",
       "    }\n",
       "\n",
       "    .dataframe tbody tr th {\n",
       "        vertical-align: top;\n",
       "    }\n",
       "\n",
       "    .dataframe thead th {\n",
       "        text-align: right;\n",
       "    }\n",
       "</style>\n",
       "<table border=\"1\" class=\"dataframe\">\n",
       "  <thead>\n",
       "    <tr style=\"text-align: right;\">\n",
       "      <th></th>\n",
       "      <th>datetime</th>\n",
       "      <th>region</th>\n",
       "      <th>browser</th>\n",
       "      <th>device</th>\n",
       "      <th>date</th>\n",
       "      <th>time</th>\n",
       "      <th>hour</th>\n",
       "      <th>__prefix__</th>\n",
       "      <th>n</th>\n",
       "      <th>f</th>\n",
       "      <th>...</th>\n",
       "      <th>ct</th>\n",
       "      <th>kl</th>\n",
       "      <th>kp</th>\n",
       "      <th>bkl</th>\n",
       "      <th>lsexp1</th>\n",
       "      <th>om</th>\n",
       "      <th>atb</th>\n",
       "      <th>atbva</th>\n",
       "      <th>va</th>\n",
       "      <th>atbexp</th>\n",
       "    </tr>\n",
       "  </thead>\n",
       "  <tbody>\n",
       "    <tr>\n",
       "      <th>0</th>\n",
       "      <td>2019-12-02 00:00:01</td>\n",
       "      <td>Mercury</td>\n",
       "      <td>Safari</td>\n",
       "      <td>Android</td>\n",
       "      <td>2019-12-02</td>\n",
       "      <td>00:00:01</td>\n",
       "      <td>0</td>\n",
       "      <td>/ad_click</td>\n",
       "      <td>1</td>\n",
       "      <td>1</td>\n",
       "      <td>...</td>\n",
       "      <td>JP</td>\n",
       "      <td>wt-wt</td>\n",
       "      <td>-1</td>\n",
       "      <td>NaN</td>\n",
       "      <td>NaN</td>\n",
       "      <td>NaN</td>\n",
       "      <td>NaN</td>\n",
       "      <td>NaN</td>\n",
       "      <td>NaN</td>\n",
       "      <td>NaN</td>\n",
       "    </tr>\n",
       "  </tbody>\n",
       "</table>\n",
       "<p>1 rows × 29 columns</p>\n",
       "</div>"
      ],
      "text/plain": [
       "             datetime   region browser   device        date      time  hour  \\\n",
       "0 2019-12-02 00:00:01  Mercury  Safari  Android  2019-12-02  00:00:01     0   \n",
       "\n",
       "  __prefix__  n  f  ...  ct     kl  kp  bkl lsexp1   om  atb atbva   va atbexp  \n",
       "0  /ad_click  1  1  ...  JP  wt-wt  -1  NaN    NaN  NaN  NaN   NaN  NaN    NaN  \n",
       "\n",
       "[1 rows x 29 columns]"
      ]
     },
     "execution_count": 3,
     "metadata": {},
     "output_type": "execute_result"
    }
   ],
   "source": [
    "df.head(1)"
   ]
  },
  {
   "cell_type": "markdown",
   "id": "331c27e5",
   "metadata": {},
   "source": [
    "### Broswer, region and device features\n",
    "\n",
    "The plan is to apply one-hot encoding to `browser`, `region`, and `device` features, as these are low-cardinality categorical features with no imposed ordinal relationship (i.e., there is no meaningful order).\n",
    "\n",
    "Although `browser` and `device` are moderately correlated, they will both be retained for now, as many algorithms handle such correlation well and dropping either prematurely could result in loss of potentially valuable signal."
   ]
  },
  {
   "cell_type": "code",
   "execution_count": 4,
   "id": "393f3926",
   "metadata": {},
   "outputs": [
    {
     "data": {
      "text/plain": [
       "Index(['datetime', 'date', 'time', 'hour', '__prefix__', 'n', 'f', 'd', 'sld',\n",
       "       'st', 'nt', 'r', 'adx', 'adx_name', 'ttc', 'q', 'ct', 'kl', 'kp', 'bkl',\n",
       "       'lsexp1', 'om', 'atb', 'atbva', 'va', 'atbexp', 'browser_Chrome',\n",
       "       'browser_Edge', 'browser_Safari', 'browser_UCBrowser', 'device_iOS',\n",
       "       'region_Jupiter', 'region_Mars', 'region_Mercury', 'region_Saturn',\n",
       "       'region_Venus'],\n",
       "      dtype='object')"
      ]
     },
     "execution_count": 4,
     "metadata": {},
     "output_type": "execute_result"
    }
   ],
   "source": [
    "cols = ['browser', 'device', 'region']\n",
    "# drop_first=True avoids multicollinearity in linear models\n",
    "one_hot_encoded = pd.get_dummies(df[cols], drop_first=True)\n",
    "\n",
    "# combine with original DataFrame and drop original columns\n",
    "df = pd.concat([df.drop(cols, axis=1), one_hot_encoded], axis=1)\n",
    "\n",
    "# sanity check\n",
    "df.columns"
   ]
  },
  {
   "cell_type": "markdown",
   "id": "f3c48ba2",
   "metadata": {},
   "source": [
    "### Drop static columns\n",
    "\n",
    "For the purpose of this exercise, features that have the same value in every row will be removed, as they contain no variance and therefore no signal -- models cannot learn anything from them.\n",
    "\n",
    "However, in a real-world scenario, such features might be retained depending on their origin — for instance, if they come from a dynamic source, they may begin to vary over time and eventually carry predictive value.  \n",
    "In this case, it will be assumed that dropping them is safe and does not risk losing relevant information.\n"
   ]
  },
  {
   "cell_type": "code",
   "execution_count": 5,
   "id": "8130bc7b",
   "metadata": {},
   "outputs": [
    {
     "name": "stdout",
     "output_type": "stream",
     "text": [
      "Dropped constant columns: ['date', '__prefix__', 'st']\n"
     ]
    }
   ],
   "source": [
    "constant_cols = df.columns[df.nunique(dropna=False) == 1].tolist()\n",
    "print(\"Dropped constant columns:\", constant_cols)"
   ]
  },
  {
   "cell_type": "code",
   "execution_count": 6,
   "id": "0146c578",
   "metadata": {},
   "outputs": [],
   "source": [
    "# adding the datetime column as well, since date and time were split into separate columns\n",
    "constant_cols += [\"datetime\"]"
   ]
  },
  {
   "cell_type": "code",
   "execution_count": 7,
   "id": "fcaa500b",
   "metadata": {},
   "outputs": [],
   "source": [
    "df.drop(columns=constant_cols, inplace=True)"
   ]
  },
  {
   "cell_type": "markdown",
   "id": "2c28c381",
   "metadata": {},
   "source": [
    "### Handling Sparse, Imbalanced, and Correlated Features\n",
    "\n",
    "From automated EDA report, it was easy to notice that the dataset contains multiple very sparse, imbalanced and some of them - very correlated between one another. Go through these variables to decide how to i\n"
   ]
  },
  {
   "cell_type": "code",
   "execution_count": 8,
   "id": "d322da4f",
   "metadata": {},
   "outputs": [],
   "source": [
    "# hand-selected based on EDA report\n",
    "sparse_columns = [\n",
    "    'adx', 'atbva', 'bkl', 'lsexp1', 'n', 'nt', 'r', 'om', 'va',\n",
    "    'f', 'adx_name', 'kp', 'sld', 'atbexp', 'atb'\n",
    "]\n",
    "sparse_df = df[sparse_columns].replace(['none', 'null'], np.nan)"
   ]
  },
  {
   "cell_type": "code",
   "execution_count": 9,
   "id": "912cc377",
   "metadata": {},
   "outputs": [
    {
     "data": {
      "text/html": [
       "<div>\n",
       "<style scoped>\n",
       "    .dataframe tbody tr th:only-of-type {\n",
       "        vertical-align: middle;\n",
       "    }\n",
       "\n",
       "    .dataframe tbody tr th {\n",
       "        vertical-align: top;\n",
       "    }\n",
       "\n",
       "    .dataframe thead th {\n",
       "        text-align: right;\n",
       "    }\n",
       "</style>\n",
       "<table border=\"1\" class=\"dataframe\">\n",
       "  <thead>\n",
       "    <tr style=\"text-align: right;\">\n",
       "      <th></th>\n",
       "      <th>adx</th>\n",
       "      <th>atbva</th>\n",
       "      <th>bkl</th>\n",
       "      <th>lsexp1</th>\n",
       "      <th>n</th>\n",
       "      <th>nt</th>\n",
       "      <th>r</th>\n",
       "      <th>om</th>\n",
       "      <th>va</th>\n",
       "      <th>f</th>\n",
       "      <th>adx_name</th>\n",
       "      <th>kp</th>\n",
       "      <th>sld</th>\n",
       "      <th>atbexp</th>\n",
       "      <th>atb</th>\n",
       "    </tr>\n",
       "  </thead>\n",
       "  <tbody>\n",
       "    <tr>\n",
       "      <th>count</th>\n",
       "      <td>1145</td>\n",
       "      <td>26</td>\n",
       "      <td>1521</td>\n",
       "      <td>1118</td>\n",
       "      <td>11711</td>\n",
       "      <td>11711</td>\n",
       "      <td>11474</td>\n",
       "      <td>372</td>\n",
       "      <td>6</td>\n",
       "      <td>11682</td>\n",
       "      <td>1</td>\n",
       "      <td>11711</td>\n",
       "      <td>11711</td>\n",
       "      <td>1</td>\n",
       "      <td>196</td>\n",
       "    </tr>\n",
       "    <tr>\n",
       "      <th>unique</th>\n",
       "      <td>3</td>\n",
       "      <td>5</td>\n",
       "      <td>50</td>\n",
       "      <td>2</td>\n",
       "      <td>2</td>\n",
       "      <td>2</td>\n",
       "      <td>3</td>\n",
       "      <td>2</td>\n",
       "      <td>3</td>\n",
       "      <td>1</td>\n",
       "      <td>1</td>\n",
       "      <td>3</td>\n",
       "      <td>2</td>\n",
       "      <td>1</td>\n",
       "      <td>1</td>\n",
       "    </tr>\n",
       "    <tr>\n",
       "      <th>top</th>\n",
       "      <td>def</td>\n",
       "      <td>k</td>\n",
       "      <td>r1-0</td>\n",
       "      <td>b</td>\n",
       "      <td>1</td>\n",
       "      <td>0</td>\n",
       "      <td>0</td>\n",
       "      <td>news:i:1</td>\n",
       "      <td>a</td>\n",
       "      <td>1</td>\n",
       "      <td>adsb</td>\n",
       "      <td>-1</td>\n",
       "      <td>0</td>\n",
       "      <td>uiu</td>\n",
       "      <td>REDACTED</td>\n",
       "    </tr>\n",
       "    <tr>\n",
       "      <th>freq</th>\n",
       "      <td>747</td>\n",
       "      <td>13</td>\n",
       "      <td>518</td>\n",
       "      <td>566</td>\n",
       "      <td>11710</td>\n",
       "      <td>11641</td>\n",
       "      <td>10811</td>\n",
       "      <td>336</td>\n",
       "      <td>4</td>\n",
       "      <td>11682</td>\n",
       "      <td>1</td>\n",
       "      <td>10550</td>\n",
       "      <td>7365</td>\n",
       "      <td>1</td>\n",
       "      <td>196</td>\n",
       "    </tr>\n",
       "  </tbody>\n",
       "</table>\n",
       "</div>"
      ],
      "text/plain": [
       "         adx atbva   bkl lsexp1      n     nt      r        om va      f  \\\n",
       "count   1145    26  1521   1118  11711  11711  11474       372  6  11682   \n",
       "unique     3     5    50      2      2      2      3         2  3      1   \n",
       "top      def     k  r1-0      b      1      0      0  news:i:1  a      1   \n",
       "freq     747    13   518    566  11710  11641  10811       336  4  11682   \n",
       "\n",
       "       adx_name     kp    sld atbexp       atb  \n",
       "count         1  11711  11711      1       196  \n",
       "unique        1      3      2      1         1  \n",
       "top        adsb     -1      0    uiu  REDACTED  \n",
       "freq          1  10550   7365      1       196  "
      ]
     },
     "execution_count": 9,
     "metadata": {},
     "output_type": "execute_result"
    }
   ],
   "source": [
    "sparse_df.describe()"
   ]
  },
  {
   "cell_type": "markdown",
   "id": "78afa844",
   "metadata": {},
   "source": [
    "Overview of the above information with notes:\n",
    "\n",
    "| Variable   | Unique Values | Most Frequent Value (%)  | Count (% present) | Notes                           |\n",
    "| ---------- | ------------- | ------------------------ | ----------------- | ------------------------------- |\n",
    "| `n`        | 2             | 11710 / 11711 (\\~99.99%) | 100%              | Near-constant feature     |\n",
    "| `nt`       | 2             | 11641 / 11711 (\\~99.40%) | 100%              | Imbalanced, binary feaure                |\n",
    "| `kp`       | 3             | 10550 / 11711 (\\~90.1%)  | 100%              | Imbalanced, not sparse          |\n",
    "| `sld`      | 2             | 7365 / 11711 (\\~62.87%)  | 100%              | Well populated |\n",
    "| `r`        | 3             | 10811 / 11474 (\\~94.22%) | \\~98%             | Imbalanced                      |\n",
    "| `f`        | 1             | 11682 / 11682 (100%)     | \\~99.8%           | Near-constant feature       |\n",
    "| `bkl`      | 50            | 518 / 1521 (\\~34.05%)    | \\~13%             | Sparse, high cardinality        |\n",
    "| `adx`      | 3             | 747 / 1145 (\\~65.25%)    | \\~10%             | Sparse                          |\n",
    "| `lsexp1`   | 2             | 566 / 1118 (\\~50.63%)    | \\~10%             | Binary, sparse                  |\n",
    "| `atb`      | 1             | 196 / 196 (100%)         | \\~2%              | Constant & sparse - possible flag feature |\n",
    "| `om`       | 2             | 336 / 372 (\\~90.32%)     | \\~3%              | Very sparse                     |\n",
    "| `atbva`    | 5             | 13 / 26 (\\~50%)          | \\~0.2%            | Extremely sparse                |\n",
    "| `va`       | 3             | 4 / 6 (\\~66.67%)         | \\~0.05%           | Extremely sparse                |\n",
    "| `adx_name` | 1             | 1 / 1 (100%)             | \\~0.01%           | Constant & very sparse          |\n",
    "| `atbexp`   | 1             | 1 / 1 (100%)             | \\~0.01%           | Constant & extremely sparse     |\n",
    "\n",
    "\n",
    "---\n",
    "\n",
    "### Feature Engineering Plan (Idea)\n",
    "\n",
    "* Features that are either >99% constant or extremely sparse will be dropped, as they provide little to no signal.\n",
    "* Imbalanced but well-populated features (e.g., `r`, `kp`, `sld`) will be one-hot encoded.\n",
    "* The remaining sparse but potentially informative fields will be grouped and transformed using dimensionality reduction techniques (e.g., TruncatedSVD).\n",
    "\n",
    "\n",
    "\n",
    "The plan: \n",
    "- Features that are either >99% constant or extremely sparse will be dropped, as they provide little to no signal.\n",
    "- Imbalanced but well-populated features (e.g., r, kp, sld) will be one-hot encoded.\n",
    "- The remaining sparse but potentially informative fields will be grouped and transformed using dimensionality reduction."
   ]
  },
  {
   "cell_type": "code",
   "execution_count": 10,
   "id": "e5dc73f5",
   "metadata": {},
   "outputs": [],
   "source": [
    "# drop features that are either >99% constant or extremely sparse\n",
    "df.drop(columns=['n', 'f', 'adx_name', 'atbexp', 'va', 'atbva'], inplace=True)"
   ]
  },
  {
   "cell_type": "code",
   "execution_count": 11,
   "id": "2103a6f0",
   "metadata": {},
   "outputs": [],
   "source": [
    "# transform to binary features\n",
    "df['nt'] = df['nt'].astype(int)\n",
    "\n",
    "# trasnform with one-hot enncoding\n",
    "# missing values will not be represented as a separate category,\n",
    "# effectively treating them as absence of any known value.\n",
    "r_encoded = pd.get_dummies(df['r'].replace('null', np.nan), prefix='r', dummy_na=False)\n",
    "kp_encoded = pd.get_dummies(df['kp'], prefix='kp', dummy_na=False)\n",
    "sld_encoded = pd.get_dummies(df['sld'], prefix='sld', dummy_na=False)\n",
    "df = pd.concat([df.drop(['r', 'kp', 'sld'], axis=1), r_encoded], axis=1)\n"
   ]
  },
  {
   "cell_type": "markdown",
   "id": "bc6a1f06",
   "metadata": {},
   "source": [
    "The remaining variables are highly sparse and lack clear definitions. While they might be encoded or excluded in a real-world setting, they will be retained to preserve potential signal.\n",
    "\n",
    "To avoid excessive dimensionality from one-hot encoding, truncated singular value decomposition will be applied for dimensionality reduction. This method is preferred over PCA for sparse data, as noted in the scikit-learn documentation:\n",
    "> Contrary to PCA, this estimator does not center the data before computing the singular value decomposition. This means it can work with sparse matrices efficiently."
   ]
  },
  {
   "cell_type": "code",
   "execution_count": 12,
   "id": "8f8a6ae8",
   "metadata": {},
   "outputs": [],
   "source": [
    "combine_cols = ['lsexp1', 'om', 'adx', 'bkl', 'atb']"
   ]
  },
  {
   "cell_type": "code",
   "execution_count": 13,
   "id": "9233b9ac",
   "metadata": {},
   "outputs": [],
   "source": [
    "svd = TruncatedSVD(\n",
    "    n_components=len(combine_cols), # must be less than or equal to the number of features\n",
    "    random_state=42\n",
    ")\n",
    "\n",
    "# from categorical features to numerical via one-hot encoding\n",
    "sparse_dummies = pd.get_dummies(\n",
    "    df[combine_cols].replace('none', np.nan).fillna('NA'),\n",
    "    prefix='sparse', \n",
    "    dummy_na=True\n",
    ")\n",
    "\n",
    "# reduce dimensionality\n",
    "svd_features = svd.fit_transform(sparse_dummies)\n"
   ]
  },
  {
   "cell_type": "code",
   "execution_count": 14,
   "id": "73cb14a4",
   "metadata": {},
   "outputs": [
    {
     "data": {
      "image/png": "[encoded data removed]",
      "text/plain": [
       "<Figure size 1200x400 with 2 Axes>"
      ]
     },
     "metadata": {},
     "output_type": "display_data"
    },
    {
     "name": "stdout",
     "output_type": "stream",
     "text": [
      "Components needed for 50% variance: 4\n",
      "Components needed for 80% variance: Not reached\n"
     ]
    }
   ],
   "source": [
    "# Enhanced visualization\n",
    "fig, (ax1, ax2) = plt.subplots(1, 2, figsize=(12, 4))\n",
    "x_ticks = range(1, len(combine_cols) + 1)\n",
    "\n",
    "# Cumulative variance plot\n",
    "cumulative_var = np.cumsum(svd.explained_variance_ratio_)\n",
    "ax1.plot(range(1, len(cumulative_var) + 1), cumulative_var, 'bo-')\n",
    "ax1.axhline(y=0.5, color='r', linestyle='--', alpha=0.7, label='50% threshold')\n",
    "ax1.axhline(y=0.8, color='orange', linestyle='--', alpha=0.7, label='80% threshold')\n",
    "ax1.set_xlabel('Number of Components')\n",
    "ax1.set_ylabel('Cumulative Explained Variance')\n",
    "ax1.set_title('Cumulative Explained Variance')\n",
    "ax1.set_xticks(x_ticks)\n",
    "ax1.legend()\n",
    "ax1.grid(True, alpha=0.3)\n",
    "\n",
    "# Individual variance plot\n",
    "ax2.bar(range(1, len(svd.explained_variance_ratio_) + 1), svd.explained_variance_ratio_)\n",
    "ax2.set_xlabel('Component Number')\n",
    "ax2.set_ylabel('Explained Variance Ratio')\n",
    "ax2.set_title('Individual Component Variance')\n",
    "ax2.set_xticks(x_ticks)\n",
    "ax2.grid(True, alpha=0.3)\n",
    "\n",
    "plt.tight_layout()\n",
    "plt.show()\n",
    "\n",
    "comp_50 = np.argmax(cumulative_var >= 0.5) + 1 if cumulative_var[-1] >= 0.5 else None\n",
    "comp_80 = np.argmax(cumulative_var >= 0.8) + 1 if cumulative_var[-1] >= 0.8 else None\n",
    "\n",
    "print(f\"Components needed for 50% variance: {comp_50 if comp_50 else 'Not reached'}\")\n",
    "print(f\"Components needed for 80% variance: {comp_80 if comp_80 else 'Not reached'}\")"
   ]
  },
  {
   "cell_type": "code",
   "execution_count": 15,
   "id": "e31e562b",
   "metadata": {},
   "outputs": [],
   "source": [
    "# Continue with 3 components, repeat previous steps\n",
    "n_components = 4\n",
    "svd = TruncatedSVD(n_components=n_components, random_state=42)\n",
    "svd_features = svd.fit_transform(sparse_dummies)\n",
    "\n",
    "# Create DataFrame with exactly 3 components\n",
    "svd_df = pd.DataFrame(\n",
    "    svd_features, \n",
    "    columns=[f'sparse_{i}' for i in range(n_components)],\n",
    "    index=df.index\n",
    ")"
   ]
  },
  {
   "cell_type": "code",
   "execution_count": 16,
   "id": "8a1f1ce2",
   "metadata": {},
   "outputs": [],
   "source": [
    "df = pd.concat([df.drop(columns=combine_cols, axis=1), svd_df], axis=1)"
   ]
  },
  {
   "cell_type": "markdown",
   "id": "935de139",
   "metadata": {},
   "source": [
    "### Time to click (`ttc`)\n",
    "\n",
    "Time to click is generally a highly informative feature, but in its current form it is extremely skewed, with a long-tailed distribution and a wide range of values. To address this, a log transformation will be applied to reduce skewness, while preserving the influence of outliers by also bucketizing the values into quantiles ensuring that rare or extreme behaviors remain captured for anomaly detection."
   ]
  },
  {
   "cell_type": "code",
   "execution_count": 17,
   "id": "33048002",
   "metadata": {},
   "outputs": [],
   "source": [
    "df['ttc_log'] = np.log1p(df['ttc'].astype(float)) "
   ]
  },
  {
   "cell_type": "code",
   "execution_count": 18,
   "id": "1f69acde",
   "metadata": {},
   "outputs": [],
   "source": [
    "TTC_BINS = [-np.inf] + df['ttc'].astype(float).quantile([0.05, 0.25, 0.5, 0.75, 0.95]).tolist() + [np.inf]\n",
    "TTC_LABELS = ['very_fast', 'fast', 'normal_fast', 'normal_slow', 'slow', 'very_slow']\n",
    "TTC_LABELS_INTS = [0, 1, 2, 3, 4, 5]\n",
    "\n",
    "df['ttc_bucket'] = pd.cut(df['ttc'].astype(float), bins=TTC_BINS, labels=TTC_LABELS_INTS)\n"
   ]
  },
  {
   "cell_type": "code",
   "execution_count": 19,
   "id": "9e1f9e96",
   "metadata": {},
   "outputs": [
    {
     "data": {
      "image/png": "[encoded data removed]",
      "text/plain": [
       "<Figure size 1000x600 with 1 Axes>"
      ]
     },
     "metadata": {},
     "output_type": "display_data"
    }
   ],
   "source": [
    "plt.figure(figsize=(10, 6))\n",
    "\n",
    "# Count values in each bucket\n",
    "bucket_counts = df['ttc_bucket'].value_counts()\n",
    "\n",
    "# Reorder to match your label order\n",
    "ordered_counts = bucket_counts.reindex(TTC_LABELS_INTS)\n",
    "\n",
    "# Create bar plot (histogram of categorical data)\n",
    "bars = plt.bar(range(len(ordered_counts)), ordered_counts.values,\n",
    "               color='skyblue', edgecolor='navy', alpha=0.7)\n",
    "\n",
    "# Customize the plot\n",
    "plt.xlabel('TTC Speed Categories')\n",
    "plt.ylabel('Frequency')\n",
    "plt.title('Distribution of TTC (Time to Click) Speed Categories')\n",
    "plt.xticks(range(len(ordered_counts)), TTC_LABELS, rotation=45, ha='right')\n",
    "\n",
    "# Add value labels on bars\n",
    "for i, bar in enumerate(bars):\n",
    "    height = bar.get_height()\n",
    "    plt.text(bar.get_x() + bar.get_width()/2., height + height*0.01,\n",
    "             f'{int(height):,}', ha='center', va='bottom', fontweight='bold')\n",
    "\n",
    "# Add grid for better readability\n",
    "plt.grid(axis='y', alpha=0.3)\n",
    "\n",
    "plt.tight_layout()\n",
    "plt.show()"
   ]
  },
  {
   "cell_type": "code",
   "execution_count": 20,
   "id": "a1d00b67",
   "metadata": {},
   "outputs": [],
   "source": [
    "df.drop(columns=['ttc'], inplace=True)"
   ]
  },
  {
   "cell_type": "markdown",
   "id": "30427379",
   "metadata": {},
   "source": [
    "### Country and Locale Codes (`ct`, `kl`)\n",
    "\n",
    "Just based on values in these features `ct` appears to be country code, whereas `kl` - locale code (language, region). \n",
    "\n",
    "There are 143 unique values in the dataset, and in theory this number could grow further. Since one-hot encoding would create too many additional variables, frequency encoding will be used instead. Frequencies are calculated only from the training set and applied to validation and test sets via `.map()`. Unseen values are filled with 0, which helps highlight rare or previously unseen values — potentially useful for anomaly detection."
   ]
  },
  {
   "cell_type": "code",
   "execution_count": 21,
   "id": "e5ed6a4c",
   "metadata": {},
   "outputs": [],
   "source": [
    "# check if all values are actually country codes\n",
    "URL = 'https://raw.githubusercontent.com/lukes/ISO-3166-Countries-with-Regional-Codes/refs/heads/master/all/all.csv'\n",
    "cc_df = pd.read_csv(URL)"
   ]
  },
  {
   "cell_type": "code",
   "execution_count": 22,
   "id": "ce755d84",
   "metadata": {},
   "outputs": [
    {
     "name": "stdout",
     "output_type": "stream",
     "text": [
      "Country codes in data that are not valid: NA\n"
     ]
    }
   ],
   "source": [
    "is_country = df['ct'].isin(cc_df['alpha-2'].unique())\n",
    "if not is_country.all():\n",
    "    print(f'Country codes in data that are not valid: {\",\".join(df.loc[~is_country, 'ct'].unique())}')\n",
    "    # replace with 'unknown'\n",
    "    df.loc[~is_country, 'ct'] = 'unknown'"
   ]
  },
  {
   "cell_type": "code",
   "execution_count": 23,
   "id": "373294fb",
   "metadata": {},
   "outputs": [],
   "source": [
    "CT_FREQ = df['ct'].value_counts(normalize=True)\n",
    "df['ct_freq'] = df['ct'].map(CT_FREQ)"
   ]
  },
  {
   "cell_type": "markdown",
   "id": "b01fa65e",
   "metadata": {},
   "source": [
    "For locale code, it seems that the first part is country code and second - language code (for example, `mx-es`). In total there are 22 distinct values. Idea is to split this feature into two features and "
   ]
  },
  {
   "cell_type": "code",
   "execution_count": 24,
   "id": "c3dfe264",
   "metadata": {},
   "outputs": [],
   "source": [
    "kl_df = df['kl'].str.split('-', expand=True)\n",
    "kl_df.columns = ['country', 'language']"
   ]
  },
  {
   "cell_type": "code",
   "execution_count": 25,
   "id": "eb9b3750",
   "metadata": {},
   "outputs": [
    {
     "name": "stdout",
     "output_type": "stream",
     "text": [
      "Unique country codes: 21\n",
      "Unique language codes: 13\n"
     ]
    }
   ],
   "source": [
    "print(f\"Unique country codes: {kl_df['country'].nunique()}\")\n",
    "print(f\"Unique language codes: {kl_df['language'].nunique()}\")"
   ]
  },
  {
   "cell_type": "code",
   "execution_count": 26,
   "id": "55a13f34",
   "metadata": {},
   "outputs": [
    {
     "data": {
      "text/plain": [
       "array(['wt', 'uk'], dtype=object)"
      ]
     },
     "execution_count": 26,
     "metadata": {},
     "output_type": "execute_result"
    }
   ],
   "source": [
    "# countries that do not exist in country codes\n",
    "kl_df.loc[~kl_df['country'].str.upper().isin(cc_df['alpha-2'].unique()), 'country'].unique()\n",
    "\n",
    "# uk - could be though of united kingdom\n",
    "# based on frequency, wt could be some internal default code"
   ]
  },
  {
   "cell_type": "code",
   "execution_count": 27,
   "id": "3c237102",
   "metadata": {},
   "outputs": [
    {
     "data": {
      "text/plain": [
       "array(['wt', 'en', 'tzh', 'da'], dtype=object)"
      ]
     },
     "execution_count": 27,
     "metadata": {},
     "output_type": "execute_result"
    }
   ],
   "source": [
    "# even though these are languages, most language codes would be the same as country codes\n",
    "kl_df.loc[~kl_df['language'].str.upper().isin(cc_df['alpha-2'].unique()), 'language'].unique()\n",
    "\n",
    "# en - english, da - danish\n",
    "# based on frequency, wt could be some internal default code\n",
    "# tzh however looks like a data quality issue"
   ]
  },
  {
   "cell_type": "code",
   "execution_count": 28,
   "id": "054c3732",
   "metadata": {},
   "outputs": [
    {
     "data": {
      "text/html": [
       "<div>\n",
       "<style scoped>\n",
       "    .dataframe tbody tr th:only-of-type {\n",
       "        vertical-align: middle;\n",
       "    }\n",
       "\n",
       "    .dataframe tbody tr th {\n",
       "        vertical-align: top;\n",
       "    }\n",
       "\n",
       "    .dataframe thead th {\n",
       "        text-align: right;\n",
       "    }\n",
       "</style>\n",
       "<table border=\"1\" class=\"dataframe\">\n",
       "  <thead>\n",
       "    <tr style=\"text-align: right;\">\n",
       "      <th></th>\n",
       "      <th>country</th>\n",
       "      <th>language</th>\n",
       "    </tr>\n",
       "  </thead>\n",
       "  <tbody>\n",
       "    <tr>\n",
       "      <th>4</th>\n",
       "      <td>uk</td>\n",
       "      <td>en</td>\n",
       "    </tr>\n",
       "    <tr>\n",
       "      <th>12</th>\n",
       "      <td>mx</td>\n",
       "      <td>es</td>\n",
       "    </tr>\n",
       "    <tr>\n",
       "      <th>52</th>\n",
       "      <td>in</td>\n",
       "      <td>en</td>\n",
       "    </tr>\n",
       "    <tr>\n",
       "      <th>96</th>\n",
       "      <td>ca</td>\n",
       "      <td>en</td>\n",
       "    </tr>\n",
       "    <tr>\n",
       "      <th>106</th>\n",
       "      <td>at</td>\n",
       "      <td>de</td>\n",
       "    </tr>\n",
       "    <tr>\n",
       "      <th>256</th>\n",
       "      <td>sg</td>\n",
       "      <td>en</td>\n",
       "    </tr>\n",
       "    <tr>\n",
       "      <th>307</th>\n",
       "      <td>us</td>\n",
       "      <td>en</td>\n",
       "    </tr>\n",
       "    <tr>\n",
       "      <th>413</th>\n",
       "      <td>hk</td>\n",
       "      <td>tzh</td>\n",
       "    </tr>\n",
       "    <tr>\n",
       "      <th>694</th>\n",
       "      <td>se</td>\n",
       "      <td>sv</td>\n",
       "    </tr>\n",
       "    <tr>\n",
       "      <th>867</th>\n",
       "      <td>br</td>\n",
       "      <td>pt</td>\n",
       "    </tr>\n",
       "    <tr>\n",
       "      <th>1338</th>\n",
       "      <td>dk</td>\n",
       "      <td>da</td>\n",
       "    </tr>\n",
       "    <tr>\n",
       "      <th>3738</th>\n",
       "      <td>tw</td>\n",
       "      <td>tzh</td>\n",
       "    </tr>\n",
       "    <tr>\n",
       "      <th>4084</th>\n",
       "      <td>ca</td>\n",
       "      <td>fr</td>\n",
       "    </tr>\n",
       "    <tr>\n",
       "      <th>6228</th>\n",
       "      <td>ie</td>\n",
       "      <td>en</td>\n",
       "    </tr>\n",
       "  </tbody>\n",
       "</table>\n",
       "</div>"
      ],
      "text/plain": [
       "     country language\n",
       "4         uk       en\n",
       "12        mx       es\n",
       "52        in       en\n",
       "96        ca       en\n",
       "106       at       de\n",
       "256       sg       en\n",
       "307       us       en\n",
       "413       hk      tzh\n",
       "694       se       sv\n",
       "867       br       pt\n",
       "1338      dk       da\n",
       "3738      tw      tzh\n",
       "4084      ca       fr\n",
       "6228      ie       en"
      ]
     },
     "execution_count": 28,
     "metadata": {},
     "output_type": "execute_result"
    }
   ],
   "source": [
    "# quick check on combinations \n",
    "kl_df[kl_df['country'] != kl_df['language']].drop_duplicates()\n",
    "\n",
    "# from this we see that tzh comes from taiwan and most likely is data quality\n",
    "# issue as it is supposed to be zh"
   ]
  },
  {
   "cell_type": "code",
   "execution_count": 29,
   "id": "13824290",
   "metadata": {},
   "outputs": [],
   "source": [
    "# fixing data quality based on observations\n",
    "kl_df.loc[kl_df['country'] == 'uk', 'country'] = 'gb'\n",
    "kl_df.loc[kl_df['language'] == 'tzh', 'language'] = 'zh'"
   ]
  },
  {
   "cell_type": "code",
   "execution_count": 30,
   "id": "51514175",
   "metadata": {},
   "outputs": [],
   "source": [
    "# quick sanity check to see both country columns side by side\n",
    "country_df = pd.concat([df['ct'], kl_df['country'], kl_df['language']], axis=1)\n",
    "country_df['country'] = country_df['country'].str.upper()\n"
   ]
  },
  {
   "cell_type": "code",
   "execution_count": 31,
   "id": "7141f30d",
   "metadata": {},
   "outputs": [
    {
     "name": "stdout",
     "output_type": "stream",
     "text": [
      "Correlation between ct and country: 0.49\n",
      "Correlation between ct and language: 0.52\n",
      "Correlation between country and language: 1.00\n"
     ]
    }
   ],
   "source": [
    "combinations = list(combinations(country_df.columns, 2))\n",
    "for combo in combinations:\n",
    "    res = association(pd.crosstab(country_df[combo[0]], country_df[combo[1]]), method='cramer')\n",
    "    print(f\"Correlation between {combo[0]} and {combo[1]}: {res:0.2f}\")"
   ]
  },
  {
   "cell_type": "markdown",
   "id": "4a694af2",
   "metadata": {},
   "source": [
    "Since `country` and `language` extracted from the locale code are perfectly correlated, `country` will be dropped, as this information is theoretically already provided by the ct (country code) feature."
   ]
  },
  {
   "cell_type": "code",
   "execution_count": 32,
   "id": "3b05c041",
   "metadata": {},
   "outputs": [],
   "source": [
    "LANG_FREQ = country_df['language'].value_counts(normalize=True)\n",
    "country_df['lang_freq'] = country_df['language'].map(LANG_FREQ)"
   ]
  },
  {
   "cell_type": "code",
   "execution_count": 33,
   "id": "8a1fabcd",
   "metadata": {},
   "outputs": [],
   "source": [
    "df = pd.concat([df, country_df['lang_freq']], axis=1)\n",
    "df.drop(columns=['ct', 'kl'], inplace=True)"
   ]
  },
  {
   "cell_type": "markdown",
   "id": "b230dcb3",
   "metadata": {},
   "source": [
    "### Ad domain features\n",
    "\n",
    "Several domain-based features will be extracted from the URL data to capture patterns that might indicate click behavior. These include both - more basic features like lenght or numeric character ratio to more specific and embeddings.\n",
    "\n",
    "For deeper semantic understanding, [FastText embeddings](https://fasttext.cc/docs/en/english-vectors.html) will be utilized. FastText was selected over other embedding models for two key reasons:\n",
    "- Speed: FastText is significantly faster than alternatives like Word2Vec or BERT\n",
    "- Character-level approach: FastText uses character n-grams to build word vectors, making it ideal for domain names that might be:\n",
    "    * Made-up or brand-specific (e.g., googlex123.com)\n",
    "    * In different languages\n",
    "    * Contain typos or variations\n",
    "This character-level approach is particularly valuable for domain analysis since domain names can be arbitrary strings that don't follow standard word patterns. Traditional n-gram approaches would create extremely sparse features, and linear dimensionality reduction wouldn't capture enough variance effectively.\n",
    "\n",
    "**Trade-off**: While FastText embeddings provide rich semantic information, they are less interpretable than basic features. This is why both approaches are included in parallel - the basic features provide explainability while embeddings capture complex patterns."
   ]
  },
  {
   "cell_type": "code",
   "execution_count": 34,
   "id": "7c4ea6be",
   "metadata": {},
   "outputs": [],
   "source": [
    "from tld.exceptions import TldBadUrl\n",
    "from typing import Optional\n",
    "\n",
    "def fix_domain(subdomain: str) -> Optional[str]:\n",
    "    \"\"\"\n",
    "    Removes 'www.' or 'www' from the start of a (sub)domain string.\n",
    "    Removes the whole string if it's just 'www(.)'.\n",
    "    Returns None if the result is empty or input is not a string.\n",
    "    \"\"\"\n",
    "    if not isinstance(subdomain, str):\n",
    "        return None\n",
    "    out = subdomain.lstrip().removeprefix('www.').removeprefix('www').strip('.')\n",
    "    return out if out else None\n",
    "\n",
    "def get_url_parts(url: str) -> dict[str, Optional[str]]:\n",
    "    \"\"\"\n",
    "    Extracts the domain, subdomain, and extension from a URL.\n",
    "    \"\"\"\n",
    "    try:\n",
    "        res = get_tld(url, as_object=True, fix_protocol=True)\n",
    "        return {\n",
    "            'domain': fix_domain(res.domain),\n",
    "            'subdomain': fix_domain(res.subdomain),\n",
    "            'extension': res.extension,\n",
    "        }\n",
    "    except TldBadUrl:\n",
    "        return {}"
   ]
  },
  {
   "cell_type": "code",
   "execution_count": 35,
   "id": "612c3325",
   "metadata": {},
   "outputs": [],
   "source": [
    "# extract domain, subdomain, and extension from the url\n",
    "domain_df = df['d'].str.lower().apply(get_url_parts).apply(pd.Series)"
   ]
  },
  {
   "cell_type": "code",
   "execution_count": 36,
   "id": "30f76ece",
   "metadata": {},
   "outputs": [],
   "source": [
    "def entropy_scipy(s: str) -> float:\n",
    "    \"\"\"\n",
    "    Measures how \"random\" or \"unpredictable\" a string of characters is.\n",
    "    Higher number - more random.\n",
    "    \n",
    "    \"aaaaaaaa\" → Very low entropy\n",
    "    \"hellohello\" → Low entropy (repetitive)\n",
    "    \"x7k9m2p4\" → High entropy (random characters)\n",
    "    \"qwertyuiop\" → Medium entropy (keyboard pattern)\n",
    "    \"\"\"\n",
    "    if not s:\n",
    "        return 0.0\n",
    "    counts = Counter(s)\n",
    "    probs = np.array(list(counts.values())) / len(s)\n",
    "    return entropy(probs, base=2)  # Use log base 2 for bits\n",
    "\n",
    "domain_df['domain_entropy'] = domain_df['domain'].apply(entropy_scipy)"
   ]
  },
  {
   "cell_type": "code",
   "execution_count": 37,
   "id": "9713343e",
   "metadata": {},
   "outputs": [],
   "source": [
    "# length of the domain\n",
    "domain_df['domain_length'] = domain_df['domain'].str.len()\n",
    "\n",
    "# ratio of digits in the domain in comparison to the length of the domain\n",
    "domain_df['domain_digit_ratio'] = domain_df['domain'].str.count(r'\\d').div(domain_df['domain'].str.len())"
   ]
  },
  {
   "cell_type": "code",
   "execution_count": 38,
   "id": "3786252a",
   "metadata": {},
   "outputs": [],
   "source": [
    "domain_df['domain'].fillna('')\n",
    "\n",
    "ft = fasttext.load_model('../models/cc.en.300.bin')\n",
    "domain_embeddings = domain_df['domain'].fillna('').apply(lambda x: ft.get_word_vector(x))\n",
    "domain_matrix = np.vstack(domain_embeddings.values) \n",
    "domain_embedding_df = pd.DataFrame(domain_matrix, index=domain_df.index) \n",
    "domain_embedding_df.columns = [f'domain_ft_dim_{i}' for i in range(domain_embedding_df.shape[1])]"
   ]
  },
  {
   "cell_type": "code",
   "execution_count": 39,
   "id": "542f48a6",
   "metadata": {},
   "outputs": [],
   "source": [
    "# For subdomain, a bit easier features\n",
    "domain_df['has_subdomain'] = ~domain_df['subdomain'].isna()\n",
    "domain_df['subdomain_entropy'] = domain_df['subdomain'].apply(entropy_scipy)"
   ]
  },
  {
   "cell_type": "code",
   "execution_count": 40,
   "id": "caa8d90a",
   "metadata": {},
   "outputs": [],
   "source": [
    "# For extension, we can use the same approach as for domain\n",
    "\n",
    "# looking into extension, we see that sometimes there are two extensions, separated by a dot\n",
    "# co.uk would be expected, whereas mx.com would not, however not really against the rules\n",
    "# one discussion https://www.reddit.com/r/answers/comments/9afyl1/why_does_the_uk_use_couk_and_not_just_uk/\n",
    "\n",
    "\n",
    "domain_df['extension_more_than_one'] = domain_df['extension'].str.count('\\\\.') > 0\n",
    "domain_df['extension_entropy'] = domain_df['extension'].apply(entropy_scipy)\n",
    "\n",
    "country_codes_list = cc_df['alpha-2'].str.lower().values\n",
    "domain_df['has_country_tld'] = domain_df['extension'].str.split(\".\").apply(\n",
    "    lambda x: any(elem in country_codes_list for elem in x)\n",
    ")\n"
   ]
  },
  {
   "cell_type": "code",
   "execution_count": 41,
   "id": "4736e54a",
   "metadata": {},
   "outputs": [
    {
     "data": {
      "text/html": [
       "<div>\n",
       "<style scoped>\n",
       "    .dataframe tbody tr th:only-of-type {\n",
       "        vertical-align: middle;\n",
       "    }\n",
       "\n",
       "    .dataframe tbody tr th {\n",
       "        vertical-align: top;\n",
       "    }\n",
       "\n",
       "    .dataframe thead th {\n",
       "        text-align: right;\n",
       "    }\n",
       "</style>\n",
       "<table border=\"1\" class=\"dataframe\">\n",
       "  <thead>\n",
       "    <tr style=\"text-align: right;\">\n",
       "      <th></th>\n",
       "      <th>domain</th>\n",
       "      <th>subdomain</th>\n",
       "      <th>extension</th>\n",
       "      <th>domain_entropy</th>\n",
       "      <th>domain_length</th>\n",
       "      <th>domain_digit_ratio</th>\n",
       "      <th>has_subdomain</th>\n",
       "      <th>subdomain_entropy</th>\n",
       "      <th>extension_more_than_one</th>\n",
       "      <th>extension_entropy</th>\n",
       "      <th>has_country_tld</th>\n",
       "    </tr>\n",
       "  </thead>\n",
       "  <tbody>\n",
       "    <tr>\n",
       "      <th>0</th>\n",
       "      <td>ashtondrake</td>\n",
       "      <td>None</td>\n",
       "      <td>com</td>\n",
       "      <td>3.277613</td>\n",
       "      <td>11.0</td>\n",
       "      <td>0.0</td>\n",
       "      <td>False</td>\n",
       "      <td>0.0</td>\n",
       "      <td>False</td>\n",
       "      <td>1.584963</td>\n",
       "      <td>False</td>\n",
       "    </tr>\n",
       "  </tbody>\n",
       "</table>\n",
       "</div>"
      ],
      "text/plain": [
       "        domain subdomain extension  domain_entropy  domain_length  \\\n",
       "0  ashtondrake      None       com        3.277613           11.0   \n",
       "\n",
       "   domain_digit_ratio  has_subdomain  subdomain_entropy  \\\n",
       "0                 0.0          False                0.0   \n",
       "\n",
       "   extension_more_than_one  extension_entropy  has_country_tld  \n",
       "0                    False           1.584963            False  "
      ]
     },
     "execution_count": 41,
     "metadata": {},
     "output_type": "execute_result"
    }
   ],
   "source": [
    "domain_df.head(1)"
   ]
  },
  {
   "cell_type": "code",
   "execution_count": 42,
   "id": "250e44fc",
   "metadata": {},
   "outputs": [],
   "source": [
    "df = pd.concat(\n",
    "    [\n",
    "        df.drop('d', axis=1), \n",
    "        domain_df.drop(['domain', 'subdomain', 'extension'], axis=1), \n",
    "        domain_embedding_df\n",
    "    ], \n",
    "    axis=1)"
   ]
  },
  {
   "cell_type": "markdown",
   "id": "d14b6c4b",
   "metadata": {},
   "source": [
    "### Search query\n",
    "\n",
    "Essentially the same approach as it was for ad domain feature."
   ]
  },
  {
   "cell_type": "code",
   "execution_count": 43,
   "id": "655653b0",
   "metadata": {},
   "outputs": [],
   "source": [
    "q_df = pd.DataFrame(index=df.index)\n",
    "\n",
    "# Decode URL-encoded characters\n",
    "q_df['q_decoded'] = df['q'].apply(lambda x: unquote(x) if pd.notna(x) else x)\n"
   ]
  },
  {
   "cell_type": "code",
   "execution_count": 44,
   "id": "5152c319",
   "metadata": {},
   "outputs": [],
   "source": [
    "# length and entropy of the query\n",
    "q_df['q_length'] = q_df['q_decoded'].str.len()\n",
    "q_df['q_entropy'] = q_df['q_decoded'].apply(entropy_scipy)\n",
    "q_df['q_word_count'] = q_df['q_decoded'].str.split().apply(len)\n",
    "\n",
    "# everything but letters and speces, e.g., digits, punctuation, etc.\n",
    "q_df['q_symbol_ratio'] = q_df['q_decoded'].str.count(r'[^a-zA-Z ]').div(q_df['q_decoded'].str.len())"
   ]
  },
  {
   "cell_type": "markdown",
   "id": "e6e2927e",
   "metadata": {},
   "source": [
    "Classic word embedding - FastText:\n",
    "- Handles typos and made-up words\n",
    "- fastText breaks words into character n-grams and builds word vectors from these.\n",
    "    - even if a word is new or misspelled, its n-grams are likely seen before, and it can generate a meaningful vector."
   ]
  },
  {
   "cell_type": "code",
   "execution_count": 45,
   "id": "f08cb300",
   "metadata": {},
   "outputs": [],
   "source": [
    "ft_embeddings = q_df['q_decoded'].apply(lambda x: ft.get_word_vector(x))\n",
    "ft_matrix = np.vstack(ft_embeddings.values)\n",
    "ft_df = pd.DataFrame(ft_matrix, index=q_df.index) \n",
    "ft_df.columns = [f'q_ft_dim_{i}' for i in range(ft_df.shape[1])]"
   ]
  },
  {
   "cell_type": "code",
   "execution_count": 46,
   "id": "5dcf791f",
   "metadata": {},
   "outputs": [],
   "source": [
    "df = pd.concat([df.drop('q', axis=1), q_df,ft_df], axis=1)"
   ]
  },
  {
   "cell_type": "markdown",
   "id": "b20f54f2",
   "metadata": {},
   "source": [
    "### Final"
   ]
  },
  {
   "cell_type": "code",
   "execution_count": 47,
   "id": "98a94a73",
   "metadata": {},
   "outputs": [],
   "source": [
    "df.drop(columns=['time'], inplace=True)"
   ]
  },
  {
   "cell_type": "code",
   "execution_count": 48,
   "id": "ec2f66d5",
   "metadata": {},
   "outputs": [],
   "source": [
    "# pass final state of dataframe to the next notebook\n",
    "with open('../data/tmp_feature_engineering_df.pkl', 'wb') as f:\n",
    "    pickle.dump(df, f)"
   ]
  },
  {
   "cell_type": "markdown",
   "id": "a2929cb8",
   "metadata": {},
   "source": [
    "All constants, thresholds, and configuration values have now been moved to a dedicated configuration file for better maintainability, clarity and reproducability.\n",
    "\n",
    "Additionally, the feature engineering transformations developed in this notebook have been refactored and consolidated into a reusable pipeline, now located in `../transform.py`. "
   ]
  }
 ],
 "metadata": {
  "kernelspec": {
   "display_name": ".venv",
   "language": "python",
   "name": "python3"
  },
  "language_info": {
   "codemirror_mode": {
    "name": "ipython",
    "version": 3
   },
   "file_extension": ".py",
   "mimetype": "text/x-python",
   "name": "python",
   "nbconvert_exporter": "python",
   "pygments_lexer": "ipython3",
   "version": "3.12.11"
  }
 },
 "nbformat": 4,
 "nbformat_minor": 5
}
